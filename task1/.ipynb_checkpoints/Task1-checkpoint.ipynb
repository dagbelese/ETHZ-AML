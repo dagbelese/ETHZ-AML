{
 "cells": [
  {
   "cell_type": "code",
   "execution_count": 146,
   "id": "7bc0d4db-1cab-47d0-8d0c-c4579ab7c4d2",
   "metadata": {},
   "outputs": [],
   "source": [
    "# Import necessary libraries\n",
    "import pandas as pd"
   ]
  },
  {
   "cell_type": "code",
   "execution_count": 147,
   "id": "f822557e-222a-41b7-8ef1-99ca93a24a77",
   "metadata": {},
   "outputs": [],
   "source": [
    "# Load dataset \n",
    "X_train = pd.read_csv('X_train.csv', index_col='id')\n",
    "y_train = pd.read_csv('y_train.csv', index_col='id')\n",
    "X_test = pd.read_csv('X_test.csv', index_col='id')"
   ]
  },
  {
   "cell_type": "code",
   "execution_count": 148,
   "id": "f5cdc683-3dcd-4219-9d77-e3dcda9dc635",
   "metadata": {},
   "outputs": [
    {
     "name": "stdout",
     "output_type": "stream",
     "text": [
      "Shape of X_train: (1212, 832)\n",
      "Shape of X_test: (776, 832)\n"
     ]
    }
   ],
   "source": [
    "print('Shape of X_train:', X_train.shape)\n",
    "print('Shape of X_test:', X_test.shape)"
   ]
  },
  {
   "cell_type": "markdown",
   "id": "c4fd8980-1a47-4125-be27-4c335aadd242",
   "metadata": {},
   "source": [
    "# Preprocessing"
   ]
  },
  {
   "cell_type": "markdown",
   "id": "3351137b-97e6-4f1f-8d0c-397daad51c9f",
   "metadata": {},
   "source": [
    "## Standardization"
   ]
  },
  {
   "cell_type": "code",
   "execution_count": 149,
   "id": "21ed46a9-5f7b-43c8-b03d-0d71efcead78",
   "metadata": {},
   "outputs": [],
   "source": [
    "from sklearn.preprocessing import RobustScaler\n",
    "\n",
    "# Scales features using statistics that are robust to outliers\n",
    "scaler = RobustScaler()\n",
    "X_train_scaled = scaler.fit_transform(X_train)\n",
    "X_test_scaled = scaler.transform(X_test)\n",
    "\n",
    "X_train_scaled = pd.DataFrame(X_train_scaled, columns=X_train.columns)\n",
    "X_test_scaled = pd.DataFrame(X_test_scaled, columns=X_test.columns)"
   ]
  },
  {
   "cell_type": "markdown",
   "id": "6c501ab6-a33a-4aca-920d-c63901ef23ca",
   "metadata": {},
   "source": [
    "## Imputation of missing values"
   ]
  },
  {
   "cell_type": "code",
   "execution_count": 150,
   "id": "8fc72d4c-76f1-4f8c-9e6b-f023b045086d",
   "metadata": {},
   "outputs": [],
   "source": [
    "from sklearn.impute import SimpleImputer\n",
    "\n",
    "imputer = SimpleImputer(strategy='median')\n",
    "X_train_imp = imputer.fit_transform(X_train_scaled)\n",
    "X_test_imp = imputer.transform(X_test_scaled)\n",
    "\n",
    "X_train_imp = pd.DataFrame(X_train_imp, columns=X_train.columns)\n",
    "X_test_imp = pd.DataFrame(X_test_imp, columns=X_test.columns)"
   ]
  },
  {
   "cell_type": "markdown",
   "id": "c67fc0bb-4dbc-4ccd-a6b8-08d264834bf9",
   "metadata": {},
   "source": [
    "## Outlier detection"
   ]
  },
  {
   "cell_type": "code",
   "execution_count": 156,
   "id": "728e78cd-1327-46aa-984c-6d8dad23c063",
   "metadata": {},
   "outputs": [],
   "source": [
    "from sklearn.decomposition import PCA\n",
    "\n",
    "n_com = 200\n",
    "pca = PCA(n_components=n_com)\n",
    "X_train_pca = pca.fit_transform(X_train_imp)\n",
    "X_test_pca = pca.transform(X_test_imp)\n",
    "\n",
    "X_train_pca = pd.DataFrame(X_train_pca, columns=X_train.columns[:n_com])\n",
    "X_test_pca = pd.DataFrame(X_test_pca, columns=X_test.columns[:n_com])"
   ]
  },
  {
   "cell_type": "code",
   "execution_count": 166,
   "id": "96c29c51-c79c-4f24-8339-6a461fdc2bc7",
   "metadata": {},
   "outputs": [],
   "source": [
    "from sklearn.covariance import EllipticEnvelope\n",
    "\n",
    "#cov = EllipticEnvelope()\n",
    "#cov.fit(X_train_pca)\n",
    "#X_train_out = cov.predict(X_train_pca)"
   ]
  },
  {
   "cell_type": "markdown",
   "id": "69a0f792-87ee-4351-820c-7c9f42669663",
   "metadata": {},
   "source": [
    "## Feature selection"
   ]
  },
  {
   "cell_type": "markdown",
   "id": "a0bda3e0-8db0-45e6-b006-01e163523691",
   "metadata": {},
   "source": [
    "# Regression models"
   ]
  },
  {
   "cell_type": "markdown",
   "id": "27e39151-1078-46e7-af8b-cf5c5cd98f0b",
   "metadata": {},
   "source": [
    "## Linear Regression"
   ]
  },
  {
   "cell_type": "code",
   "execution_count": 133,
   "id": "70bc18f2-c528-4e33-b8c5-838b64651fe8",
   "metadata": {},
   "outputs": [],
   "source": [
    "# Linear Regression\n",
    "from sklearn.linear_model import LinearRegression\n",
    "\n",
    "lin = LinearRegression()\n",
    "lin.fit(X_train_pca, y_train)\n",
    "y_pred = lin.predict(X_train_pca)"
   ]
  },
  {
   "cell_type": "code",
   "execution_count": 134,
   "id": "d8117777-1986-4f4b-a23b-545521b2dc82",
   "metadata": {},
   "outputs": [
    {
     "name": "stdout",
     "output_type": "stream",
     "text": [
      "Score Linear Regression: 0.5919262649851431\n"
     ]
    }
   ],
   "source": [
    "# Evaluation of Linear Regression\n",
    "from sklearn.metrics import r2_score\n",
    "score = r2_score(y_train, y_pred)\n",
    "\n",
    "print('Score Linear Regression:', score)"
   ]
  },
  {
   "cell_type": "markdown",
   "id": "2d405472-713b-4231-87f3-449b716f5ceb",
   "metadata": {},
   "source": [
    "## Ridge Regression"
   ]
  },
  {
   "cell_type": "code",
   "execution_count": 168,
   "id": "3677016e-7488-4243-ab34-9794833a34d8",
   "metadata": {},
   "outputs": [],
   "source": [
    "# Ridge Regression\n",
    "from sklearn.linear_model import Ridge\n",
    "\n",
    "ridge = Ridge(alpha=0.5)\n",
    "ridge.fit(X_train_imp, y_train)\n",
    "y_pred = ridge.predict(X_train_imp)"
   ]
  },
  {
   "cell_type": "code",
   "execution_count": 159,
   "id": "4c53a779-2a06-4951-803a-486864cb5672",
   "metadata": {},
   "outputs": [
    {
     "name": "stdout",
     "output_type": "stream",
     "text": [
      "Score Ridge Regression: 0.4678228725825109\n"
     ]
    }
   ],
   "source": [
    "# Evaluation of Ridge Regression\n",
    "from sklearn.metrics import r2_score\n",
    "score = r2_score(y_train, y_pred)\n",
    "\n",
    "print('Score Ridge Regression:', score)"
   ]
  },
  {
   "cell_type": "markdown",
   "id": "f4c87da9-f339-4b6c-8bdb-26f80937027a",
   "metadata": {},
   "source": [
    "## Lasso Regression"
   ]
  },
  {
   "cell_type": "code",
   "execution_count": 137,
   "id": "13f9dc8c-a355-4ee3-9fce-de695940db1a",
   "metadata": {},
   "outputs": [],
   "source": [
    "# Lasso Regression\n",
    "from sklearn.linear_model import Lasso\n",
    "\n",
    "lasso = Lasso(alpha=0.1)\n",
    "lasso.fit(X_train_pca, y_train)\n",
    "y_pred = lasso.predict(X_train_pca)"
   ]
  },
  {
   "cell_type": "code",
   "execution_count": 138,
   "id": "f76311f5-f059-4d7c-84fc-f99948fac966",
   "metadata": {},
   "outputs": [
    {
     "name": "stdout",
     "output_type": "stream",
     "text": [
      "Score Lasso Regression: 0.528365437251739\n"
     ]
    }
   ],
   "source": [
    "# Evaluation of Lasso Regression\n",
    "from sklearn.metrics import r2_score\n",
    "score = r2_score(y_train, y_pred)\n",
    "\n",
    "print('Score Lasso Regression:', score)"
   ]
  },
  {
   "cell_type": "markdown",
   "id": "79aa151a-afc7-4d13-999d-3c2ddf6720dc",
   "metadata": {},
   "source": [
    "## Bayesian Ridge Regression"
   ]
  },
  {
   "cell_type": "code",
   "execution_count": 139,
   "id": "1f36c309-7808-4ebf-8c54-77708bf34566",
   "metadata": {},
   "outputs": [
    {
     "name": "stderr",
     "output_type": "stream",
     "text": [
      "/Users/damolaagbelese/opt/anaconda3/lib/python3.9/site-packages/sklearn/utils/validation.py:993: DataConversionWarning: A column-vector y was passed when a 1d array was expected. Please change the shape of y to (n_samples, ), for example using ravel().\n",
      "  y = column_or_1d(y, warn=True)\n"
     ]
    }
   ],
   "source": [
    "# Bayesian Ridge Regression\n",
    "from sklearn.linear_model import BayesianRidge\n",
    "\n",
    "br = BayesianRidge()\n",
    "br.fit(X_train_pca, y_train)\n",
    "y_pred = br.predict(X_train_pca)"
   ]
  },
  {
   "cell_type": "code",
   "execution_count": 140,
   "id": "862a3b42-0fdd-4baf-9fc9-2ae1f6a1e220",
   "metadata": {},
   "outputs": [
    {
     "name": "stdout",
     "output_type": "stream",
     "text": [
      "Score Bayesian Ridge Regression: 0.484788449250907\n"
     ]
    }
   ],
   "source": [
    "# Evaluation of Bayesian Ridge Regression \n",
    "from sklearn.metrics import r2_score\n",
    "score = r2_score(y_train, y_pred)\n",
    "\n",
    "print('Score Bayesian Ridge Regression:', score)"
   ]
  },
  {
   "cell_type": "markdown",
   "id": "60f6d90e-8a7e-4a5e-81d9-a06f872423ae",
   "metadata": {},
   "source": [
    "## Gaussian Process"
   ]
  },
  {
   "cell_type": "code",
   "execution_count": 142,
   "id": "864b31ff-ccd9-4446-bd85-ac02f5d3cc27",
   "metadata": {},
   "outputs": [],
   "source": [
    "# Gaussian process\n",
    "from sklearn.gaussian_process import GaussianProcessRegressor\n",
    "\n",
    "gpr = GaussianProcessRegressor()\n",
    "gpr.fit(X_train_pca, y_train)\n",
    "y_pred = gpr.predict(X_train_pca)"
   ]
  },
  {
   "cell_type": "code",
   "execution_count": 143,
   "id": "06c7fa1f-2808-46ef-b032-5f089cadcc94",
   "metadata": {},
   "outputs": [
    {
     "name": "stdout",
     "output_type": "stream",
     "text": [
      "Score Gaussian Process: 1.0\n"
     ]
    }
   ],
   "source": [
    "# Evaluation of Gaussian Process\n",
    "from sklearn.metrics import r2_score\n",
    "score = r2_score(y_train, y_pred)\n",
    "\n",
    "print('Score Gaussian Process:', score)"
   ]
  },
  {
   "cell_type": "markdown",
   "id": "68c6cd15-37ff-41b6-a5c5-fa16390bec6a",
   "metadata": {},
   "source": [
    "# Prediction"
   ]
  }
 ],
 "metadata": {
  "kernelspec": {
   "display_name": "Python 3 (ipykernel)",
   "language": "python",
   "name": "python3"
  },
  "language_info": {
   "codemirror_mode": {
    "name": "ipython",
    "version": 3
   },
   "file_extension": ".py",
   "mimetype": "text/x-python",
   "name": "python",
   "nbconvert_exporter": "python",
   "pygments_lexer": "ipython3",
   "version": "3.9.12"
  }
 },
 "nbformat": 4,
 "nbformat_minor": 5
}
