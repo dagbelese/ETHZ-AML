{
 "cells": [
  {
   "cell_type": "code",
   "execution_count": 1,
   "id": "8b6f405f-44c8-47e7-8124-481a3fdf43eb",
   "metadata": {},
   "outputs": [],
   "source": [
    "# Import necessary libraries\n",
    "import pandas as pd\n",
    "import numpy as np"
   ]
  },
  {
   "cell_type": "code",
   "execution_count": 2,
   "id": "4208ba25-d24c-496d-bdaa-75f6816db029",
   "metadata": {},
   "outputs": [],
   "source": [
    "# Load dataset\n",
    "X = pd.read_csv('X_train.csv', index_col='id')\n",
    "y = pd.read_csv('y_train.csv', index_col='id')\n",
    "X_test_sub = pd.read_csv('X_test.csv', index_col='id')"
   ]
  },
  {
   "cell_type": "code",
   "execution_count": 3,
   "id": "fbd19fee-98f4-46fa-91f0-6c1c7d7c404f",
   "metadata": {},
   "outputs": [
    {
     "name": "stdout",
     "output_type": "stream",
     "text": [
      "Shape of training set: (1212, 832)\n",
      "Shape of test set: (776, 832)\n"
     ]
    }
   ],
   "source": [
    "print('Shape of training set:', X.shape)\n",
    "print('Shape of test set:', X_test_sub.shape)"
   ]
  },
  {
   "cell_type": "markdown",
   "id": "6d903f80-7856-4fb4-9c79-8c9a8b2c70e6",
   "metadata": {},
   "source": [
    "# Preprocessing"
   ]
  },
  {
   "cell_type": "markdown",
   "id": "bf230864-8b6e-470d-aa9b-8fc3d33cb0c2",
   "metadata": {},
   "source": [
    "### Imputation of missing values"
   ]
  },
  {
   "cell_type": "code",
   "execution_count": 4,
   "id": "e7b3a2ca-b1df-4a0c-91ad-6d4a8f2c1738",
   "metadata": {},
   "outputs": [],
   "source": [
    "# Simple imputer\n",
    "from sklearn.impute import SimpleImputer\n",
    "imputer = SimpleImputer(strategy='median')\n",
    "X_train_imp = imputer.fit_transform(X)\n",
    "X_test_imp = imputer.transform(X_test_sub)\n",
    "\n",
    "# Iterative imputer\n",
    "#from sklearn.experimental import enable_iterative_imputer\n",
    "#from sklearn.impute import IterativeImputer\n",
    "#imputer = IterativeImputer(initial_strategy='median', n_nearest_features=100)\n",
    "#X_train_imp = imputer.fit_transform(X)\n",
    "#X_test_imp = imputer.transform(X_test_sub)\n",
    "\n",
    "X_train_imp = pd.DataFrame(X_train_imp, columns=X.columns)\n",
    "X_test_imp = pd.DataFrame(X_test_imp, columns=X_test_sub.columns)"
   ]
  },
  {
   "cell_type": "markdown",
   "id": "ef82bb11-ad62-442d-a5c2-165a67bca53b",
   "metadata": {},
   "source": [
    "### Standardization"
   ]
  },
  {
   "cell_type": "code",
   "execution_count": 5,
   "id": "d4ffa651-2399-42c3-8851-dda50bc8fa13",
   "metadata": {},
   "outputs": [],
   "source": [
    "# Standard scaler\n",
    "#from sklearn.preprocessing import StandardScaler\n",
    "#scaler = StandardScaler()\n",
    "#X_train_scaled = scaler.fit_transform(X_train_imp)\n",
    "#X_test_scaled = scaler.transform(X_test_imp)\n",
    "\n",
    "# Scaler robust to outliers\n",
    "from sklearn.preprocessing import RobustScaler\n",
    "scaler = RobustScaler()\n",
    "X_train_scaled = scaler.fit_transform(X_train_imp)\n",
    "X_test_scaled = scaler.transform(X_test_imp)\n",
    "\n",
    "X_train_scaled = pd.DataFrame(X_train_scaled, columns=X.columns)\n",
    "X_test_scaled = pd.DataFrame(X_test_scaled, columns=X_test_sub.columns)"
   ]
  },
  {
   "cell_type": "markdown",
   "id": "eedf5ff0-a891-4266-bf32-10434623bafc",
   "metadata": {},
   "source": [
    "### Feature selection"
   ]
  },
  {
   "cell_type": "code",
   "execution_count": 6,
   "id": "58362a9c-22a3-4682-a249-a4dbdd905d45",
   "metadata": {},
   "outputs": [],
   "source": [
    "# PCA\n",
    "from sklearn.decomposition import PCA\n",
    "pca = PCA(n_components=75)\n",
    "X_train_pca = pca.fit_transform(X_train_scaled)\n",
    "X_test_pca = pca.transform(X_test_scaled)\n",
    "\n",
    "X_train_pca = pd.DataFrame(X_train_pca)\n",
    "X_test_pca = pd.DataFrame(X_test_pca)"
   ]
  },
  {
   "cell_type": "code",
   "execution_count": 52,
   "id": "9697ee2e-1b79-48c3-a218-ccf52f4ac411",
   "metadata": {},
   "outputs": [],
   "source": [
    "# Select k best\n",
    "from sklearn.feature_selection import SelectKBest\n",
    "from sklearn.feature_selection import f_regression\n",
    "select = SelectKBest(score_func=f_regression, k=100)\n",
    "X_train_select = select.fit_transform(X_train_scaled, np.array(y).ravel())\n",
    "X_test_select = select.transform(X_test_scaled)\n",
    "\n",
    "X_train_select = pd.DataFrame(X_train_select)\n",
    "X_test_select = pd.DataFrame(X_test_select)"
   ]
  },
  {
   "cell_type": "markdown",
   "id": "3d150b98-88bc-40b7-b9fb-4a0950c85d94",
   "metadata": {},
   "source": [
    "# Regression models"
   ]
  },
  {
   "cell_type": "code",
   "execution_count": 61,
   "id": "b4b0af37-e321-4c32-bea1-b3915552df06",
   "metadata": {},
   "outputs": [],
   "source": [
    "# Train-Test-Split\n",
    "from sklearn.model_selection import train_test_split\n",
    "\n",
    "X_train, X_test, y_train, y_test = train_test_split(X_train_select, y, test_size=0.2) "
   ]
  },
  {
   "cell_type": "code",
   "execution_count": 62,
   "id": "8e9c1da7-92fc-4256-bb1a-a7969191888b",
   "metadata": {},
   "outputs": [
    {
     "name": "stdout",
     "output_type": "stream",
     "text": [
      "Shape of training set: (969, 100)\n",
      "Shape of test set: (243, 100)\n"
     ]
    }
   ],
   "source": [
    "print('Shape of training set:', X_train.shape)\n",
    "print('Shape of test set:', X_test.shape)"
   ]
  },
  {
   "cell_type": "markdown",
   "id": "cad7cd0c-9639-47b3-b889-26597667148e",
   "metadata": {},
   "source": [
    "### Ridge Regression"
   ]
  },
  {
   "cell_type": "code",
   "execution_count": 63,
   "id": "68947ca4-7fc1-4568-8b57-25fc5b20000d",
   "metadata": {},
   "outputs": [],
   "source": [
    "# Ridge regression\n",
    "from sklearn.linear_model import RidgeCV\n",
    "rr = RidgeCV(cv=10).fit(X_train, y_train)\n",
    "y_pred = rr.predict(X_test)"
   ]
  },
  {
   "cell_type": "code",
   "execution_count": 64,
   "id": "0f55b93a-d502-484c-b15f-3b2d75dd7236",
   "metadata": {},
   "outputs": [
    {
     "name": "stdout",
     "output_type": "stream",
     "text": [
      "Score Ridge Regression: 0.4257788683692918\n"
     ]
    }
   ],
   "source": [
    "# Evaluation of Ridge Regression\n",
    "from sklearn.metrics import r2_score\n",
    "score = r2_score(y_test, y_pred)\n",
    "\n",
    "print('Score Ridge Regression:', score)"
   ]
  },
  {
   "cell_type": "markdown",
   "id": "9cdee215-37e7-4d5a-989d-40ce18679a6d",
   "metadata": {},
   "source": [
    "### Gaussian process"
   ]
  },
  {
   "cell_type": "code",
   "execution_count": 65,
   "id": "b3d54d4f-8222-45ca-8431-85e57a54d819",
   "metadata": {},
   "outputs": [],
   "source": [
    "# Gaussian process\n",
    "from sklearn.gaussian_process import GaussianProcessRegressor\n",
    "from sklearn.gaussian_process.kernels import *\n",
    "kernel = RationalQuadratic() \n",
    "gpr = GaussianProcessRegressor(kernel=kernel, n_restarts_optimizer=5, normalize_y=True)\n",
    "gpr.fit(X_train, y_train)\n",
    "y_pred = gpr.predict(X_test)"
   ]
  },
  {
   "cell_type": "code",
   "execution_count": 66,
   "id": "887dc5ab-e339-4785-b492-c7bf01a08acd",
   "metadata": {},
   "outputs": [
    {
     "name": "stdout",
     "output_type": "stream",
     "text": [
      "Score Gaussian Process: 0.5982404765551717\n"
     ]
    }
   ],
   "source": [
    "# Evaluation of Gaussian Process\n",
    "from sklearn.metrics import r2_score\n",
    "score = r2_score(y_test, y_pred)\n",
    "\n",
    "print('Score Gaussian Process:', score)"
   ]
  },
  {
   "cell_type": "markdown",
   "id": "cf5ed83b-d79c-4716-8768-dd1d882ac6e5",
   "metadata": {},
   "source": [
    "# Submission"
   ]
  },
  {
   "cell_type": "code",
   "execution_count": 67,
   "id": "c52637f1-f346-49eb-b52b-5d453566108c",
   "metadata": {},
   "outputs": [
    {
     "data": {
      "text/html": [
       "<style>#sk-container-id-1 {color: black;background-color: white;}#sk-container-id-1 pre{padding: 0;}#sk-container-id-1 div.sk-toggleable {background-color: white;}#sk-container-id-1 label.sk-toggleable__label {cursor: pointer;display: block;width: 100%;margin-bottom: 0;padding: 0.3em;box-sizing: border-box;text-align: center;}#sk-container-id-1 label.sk-toggleable__label-arrow:before {content: \"▸\";float: left;margin-right: 0.25em;color: #696969;}#sk-container-id-1 label.sk-toggleable__label-arrow:hover:before {color: black;}#sk-container-id-1 div.sk-estimator:hover label.sk-toggleable__label-arrow:before {color: black;}#sk-container-id-1 div.sk-toggleable__content {max-height: 0;max-width: 0;overflow: hidden;text-align: left;background-color: #f0f8ff;}#sk-container-id-1 div.sk-toggleable__content pre {margin: 0.2em;color: black;border-radius: 0.25em;background-color: #f0f8ff;}#sk-container-id-1 input.sk-toggleable__control:checked~div.sk-toggleable__content {max-height: 200px;max-width: 100%;overflow: auto;}#sk-container-id-1 input.sk-toggleable__control:checked~label.sk-toggleable__label-arrow:before {content: \"▾\";}#sk-container-id-1 div.sk-estimator input.sk-toggleable__control:checked~label.sk-toggleable__label {background-color: #d4ebff;}#sk-container-id-1 div.sk-label input.sk-toggleable__control:checked~label.sk-toggleable__label {background-color: #d4ebff;}#sk-container-id-1 input.sk-hidden--visually {border: 0;clip: rect(1px 1px 1px 1px);clip: rect(1px, 1px, 1px, 1px);height: 1px;margin: -1px;overflow: hidden;padding: 0;position: absolute;width: 1px;}#sk-container-id-1 div.sk-estimator {font-family: monospace;background-color: #f0f8ff;border: 1px dotted black;border-radius: 0.25em;box-sizing: border-box;margin-bottom: 0.5em;}#sk-container-id-1 div.sk-estimator:hover {background-color: #d4ebff;}#sk-container-id-1 div.sk-parallel-item::after {content: \"\";width: 100%;border-bottom: 1px solid gray;flex-grow: 1;}#sk-container-id-1 div.sk-label:hover label.sk-toggleable__label {background-color: #d4ebff;}#sk-container-id-1 div.sk-serial::before {content: \"\";position: absolute;border-left: 1px solid gray;box-sizing: border-box;top: 0;bottom: 0;left: 50%;z-index: 0;}#sk-container-id-1 div.sk-serial {display: flex;flex-direction: column;align-items: center;background-color: white;padding-right: 0.2em;padding-left: 0.2em;position: relative;}#sk-container-id-1 div.sk-item {position: relative;z-index: 1;}#sk-container-id-1 div.sk-parallel {display: flex;align-items: stretch;justify-content: center;background-color: white;position: relative;}#sk-container-id-1 div.sk-item::before, #sk-container-id-1 div.sk-parallel-item::before {content: \"\";position: absolute;border-left: 1px solid gray;box-sizing: border-box;top: 0;bottom: 0;left: 50%;z-index: -1;}#sk-container-id-1 div.sk-parallel-item {display: flex;flex-direction: column;z-index: 1;position: relative;background-color: white;}#sk-container-id-1 div.sk-parallel-item:first-child::after {align-self: flex-end;width: 50%;}#sk-container-id-1 div.sk-parallel-item:last-child::after {align-self: flex-start;width: 50%;}#sk-container-id-1 div.sk-parallel-item:only-child::after {width: 0;}#sk-container-id-1 div.sk-dashed-wrapped {border: 1px dashed gray;margin: 0 0.4em 0.5em 0.4em;box-sizing: border-box;padding-bottom: 0.4em;background-color: white;}#sk-container-id-1 div.sk-label label {font-family: monospace;font-weight: bold;display: inline-block;line-height: 1.2em;}#sk-container-id-1 div.sk-label-container {text-align: center;}#sk-container-id-1 div.sk-container {/* jupyter's `normalize.less` sets `[hidden] { display: none; }` but bootstrap.min.css set `[hidden] { display: none !important; }` so we also need the `!important` here to be able to override the default hidden behavior on the sphinx rendered scikit-learn.org. See: https://github.com/scikit-learn/scikit-learn/issues/21755 */display: inline-block !important;position: relative;}#sk-container-id-1 div.sk-text-repr-fallback {display: none;}</style><div id=\"sk-container-id-1\" class=\"sk-top-container\"><div class=\"sk-text-repr-fallback\"><pre>GaussianProcessRegressor(kernel=RationalQuadratic(alpha=1, length_scale=1),\n",
       "                         n_restarts_optimizer=5, normalize_y=True)</pre><b>In a Jupyter environment, please rerun this cell to show the HTML representation or trust the notebook. <br />On GitHub, the HTML representation is unable to render, please try loading this page with nbviewer.org.</b></div><div class=\"sk-container\" hidden><div class=\"sk-item\"><div class=\"sk-estimator sk-toggleable\"><input class=\"sk-toggleable__control sk-hidden--visually\" id=\"sk-estimator-id-1\" type=\"checkbox\" checked><label for=\"sk-estimator-id-1\" class=\"sk-toggleable__label sk-toggleable__label-arrow\">GaussianProcessRegressor</label><div class=\"sk-toggleable__content\"><pre>GaussianProcessRegressor(kernel=RationalQuadratic(alpha=1, length_scale=1),\n",
       "                         n_restarts_optimizer=5, normalize_y=True)</pre></div></div></div></div></div>"
      ],
      "text/plain": [
       "GaussianProcessRegressor(kernel=RationalQuadratic(alpha=1, length_scale=1),\n",
       "                         n_restarts_optimizer=5, normalize_y=True)"
      ]
     },
     "execution_count": 67,
     "metadata": {},
     "output_type": "execute_result"
    }
   ],
   "source": [
    "# Train model on whole training set\n",
    "gpr = GaussianProcessRegressor(kernel=kernel, n_restarts_optimizer=5, normalize_y=True)\n",
    "gpr.fit(X_train_select, y)"
   ]
  },
  {
   "cell_type": "code",
   "execution_count": 68,
   "id": "40e1af43-020d-4582-9a36-821a9775235e",
   "metadata": {},
   "outputs": [],
   "source": [
    "# Prediction on submission test set\n",
    "submission = gpr.predict(X_test_select)\n",
    "df_submission = pd.DataFrame({'id': X_test_sub.index, 'y': submission})"
   ]
  },
  {
   "cell_type": "code",
   "execution_count": 69,
   "id": "b15bce34-36cc-4933-9c3c-e9917586ed0f",
   "metadata": {},
   "outputs": [],
   "source": [
    "# Save into csv file\n",
    "df_submission.to_csv('submission.csv',index=False)"
   ]
  }
 ],
 "metadata": {
  "kernelspec": {
   "display_name": "Python 3 (ipykernel)",
   "language": "python",
   "name": "python3"
  },
  "language_info": {
   "codemirror_mode": {
    "name": "ipython",
    "version": 3
   },
   "file_extension": ".py",
   "mimetype": "text/x-python",
   "name": "python",
   "nbconvert_exporter": "python",
   "pygments_lexer": "ipython3",
   "version": "3.9.13"
  }
 },
 "nbformat": 4,
 "nbformat_minor": 5
}
