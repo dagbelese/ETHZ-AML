{
 "cells": [
  {
   "cell_type": "code",
   "execution_count": 13,
   "id": "8e6a5b2b",
   "metadata": {},
   "outputs": [],
   "source": [
    "import numpy as np\n",
    "import pandas as pd\n",
    "import matplotlib.pyplot as plt\n",
    "import seaborn as sns\n",
    "from sklearn.experimental import enable_iterative_imputer\n",
    "from sklearn.impute import IterativeImputer\n",
    "from sklearn.model_selection import train_test_split\n",
    "from sklearn import linear_model\n",
    "from sklearn.metrics import r2_score\n",
    "from sklearn import preprocessing\n",
    "from sklearn.gaussian_process.kernels import *\n",
    "from sklearn.gaussian_process import GaussianProcessRegressor\n",
    "from sklearn.feature_selection import SelectKBest\n",
    "from sklearn.feature_selection import f_regression\n",
    "from sklearn.feature_selection import mutual_info_regression"
   ]
  },
  {
   "cell_type": "code",
   "execution_count": 14,
   "id": "0708aa21",
   "metadata": {},
   "outputs": [],
   "source": [
    "dftrain_x = pd.read_csv('X_train.csv', index_col='id')\n",
    "dftrain_y = pd.read_csv('y_train.csv', index_col='id')\n",
    "dftest_x = pd.read_csv('X_test.csv', index_col='id')"
   ]
  },
  {
   "cell_type": "code",
   "execution_count": 15,
   "id": "690212ca",
   "metadata": {},
   "outputs": [
    {
     "data": {
      "text/html": [
       "<div>\n",
       "<style scoped>\n",
       "    .dataframe tbody tr th:only-of-type {\n",
       "        vertical-align: middle;\n",
       "    }\n",
       "\n",
       "    .dataframe tbody tr th {\n",
       "        vertical-align: top;\n",
       "    }\n",
       "\n",
       "    .dataframe thead th {\n",
       "        text-align: right;\n",
       "    }\n",
       "</style>\n",
       "<table border=\"1\" class=\"dataframe\">\n",
       "  <thead>\n",
       "    <tr style=\"text-align: right;\">\n",
       "      <th></th>\n",
       "      <th>x0</th>\n",
       "      <th>x1</th>\n",
       "      <th>x2</th>\n",
       "      <th>x3</th>\n",
       "      <th>x4</th>\n",
       "      <th>x5</th>\n",
       "      <th>x6</th>\n",
       "      <th>x7</th>\n",
       "      <th>x8</th>\n",
       "      <th>x9</th>\n",
       "      <th>...</th>\n",
       "      <th>x822</th>\n",
       "      <th>x823</th>\n",
       "      <th>x824</th>\n",
       "      <th>x825</th>\n",
       "      <th>x826</th>\n",
       "      <th>x827</th>\n",
       "      <th>x828</th>\n",
       "      <th>x829</th>\n",
       "      <th>x830</th>\n",
       "      <th>x831</th>\n",
       "    </tr>\n",
       "    <tr>\n",
       "      <th>id</th>\n",
       "      <th></th>\n",
       "      <th></th>\n",
       "      <th></th>\n",
       "      <th></th>\n",
       "      <th></th>\n",
       "      <th></th>\n",
       "      <th></th>\n",
       "      <th></th>\n",
       "      <th></th>\n",
       "      <th></th>\n",
       "      <th></th>\n",
       "      <th></th>\n",
       "      <th></th>\n",
       "      <th></th>\n",
       "      <th></th>\n",
       "      <th></th>\n",
       "      <th></th>\n",
       "      <th></th>\n",
       "      <th></th>\n",
       "      <th></th>\n",
       "      <th></th>\n",
       "    </tr>\n",
       "  </thead>\n",
       "  <tbody>\n",
       "    <tr>\n",
       "      <th>0.0</th>\n",
       "      <td>14168.823171</td>\n",
       "      <td>10514.380717</td>\n",
       "      <td>3316.149698</td>\n",
       "      <td>94230.695124</td>\n",
       "      <td>102.386606</td>\n",
       "      <td>92.677127</td>\n",
       "      <td>11108.748199</td>\n",
       "      <td>10866.505510</td>\n",
       "      <td>10837.622093</td>\n",
       "      <td>10.227734</td>\n",
       "      <td>...</td>\n",
       "      <td>NaN</td>\n",
       "      <td>12352.094085</td>\n",
       "      <td>846.014651</td>\n",
       "      <td>105.132144</td>\n",
       "      <td>102.112809</td>\n",
       "      <td>2090.004260</td>\n",
       "      <td>2.691845</td>\n",
       "      <td>1234.374109</td>\n",
       "      <td>1000.784475</td>\n",
       "      <td>9285.751272</td>\n",
       "    </tr>\n",
       "    <tr>\n",
       "      <th>1.0</th>\n",
       "      <td>17757.037554</td>\n",
       "      <td>NaN</td>\n",
       "      <td>4101.016273</td>\n",
       "      <td>92959.527633</td>\n",
       "      <td>NaN</td>\n",
       "      <td>99.855168</td>\n",
       "      <td>10013.959449</td>\n",
       "      <td>10826.607494</td>\n",
       "      <td>10076.101597</td>\n",
       "      <td>11.436970</td>\n",
       "      <td>...</td>\n",
       "      <td>NaN</td>\n",
       "      <td>16198.071494</td>\n",
       "      <td>776.084467</td>\n",
       "      <td>106.385590</td>\n",
       "      <td>103.472030</td>\n",
       "      <td>2474.051881</td>\n",
       "      <td>2.287976</td>\n",
       "      <td>NaN</td>\n",
       "      <td>1012.626705</td>\n",
       "      <td>11750.284764</td>\n",
       "    </tr>\n",
       "    <tr>\n",
       "      <th>2.0</th>\n",
       "      <td>14226.656663</td>\n",
       "      <td>11029.642499</td>\n",
       "      <td>NaN</td>\n",
       "      <td>124055.600561</td>\n",
       "      <td>100.542483</td>\n",
       "      <td>92.860892</td>\n",
       "      <td>NaN</td>\n",
       "      <td>10492.342868</td>\n",
       "      <td>NaN</td>\n",
       "      <td>10.810076</td>\n",
       "      <td>...</td>\n",
       "      <td>10329.704431</td>\n",
       "      <td>13976.063780</td>\n",
       "      <td>737.040332</td>\n",
       "      <td>103.671234</td>\n",
       "      <td>109.458246</td>\n",
       "      <td>2656.083281</td>\n",
       "      <td>2.843706</td>\n",
       "      <td>888.353607</td>\n",
       "      <td>1048.810385</td>\n",
       "      <td>9553.922728</td>\n",
       "    </tr>\n",
       "    <tr>\n",
       "      <th>3.0</th>\n",
       "      <td>8766.012436</td>\n",
       "      <td>7384.202998</td>\n",
       "      <td>2147.308418</td>\n",
       "      <td>100157.719990</td>\n",
       "      <td>104.855061</td>\n",
       "      <td>101.929026</td>\n",
       "      <td>10050.049932</td>\n",
       "      <td>10499.521099</td>\n",
       "      <td>10525.030989</td>\n",
       "      <td>10.092109</td>\n",
       "      <td>...</td>\n",
       "      <td>10008.251395</td>\n",
       "      <td>6212.127347</td>\n",
       "      <td>329.044233</td>\n",
       "      <td>105.084488</td>\n",
       "      <td>104.858546</td>\n",
       "      <td>1097.785204</td>\n",
       "      <td>2.732257</td>\n",
       "      <td>927.752967</td>\n",
       "      <td>1048.357330</td>\n",
       "      <td>NaN</td>\n",
       "    </tr>\n",
       "    <tr>\n",
       "      <th>4.0</th>\n",
       "      <td>13801.016418</td>\n",
       "      <td>13269.493652</td>\n",
       "      <td>3408.316953</td>\n",
       "      <td>92048.527786</td>\n",
       "      <td>103.759758</td>\n",
       "      <td>95.789235</td>\n",
       "      <td>9667.353978</td>\n",
       "      <td>10750.783106</td>\n",
       "      <td>10618.800750</td>\n",
       "      <td>12.006773</td>\n",
       "      <td>...</td>\n",
       "      <td>10095.782015</td>\n",
       "      <td>13772.061493</td>\n",
       "      <td>NaN</td>\n",
       "      <td>NaN</td>\n",
       "      <td>100.369834</td>\n",
       "      <td>2693.053231</td>\n",
       "      <td>2.702908</td>\n",
       "      <td>1471.354073</td>\n",
       "      <td>1071.284484</td>\n",
       "      <td>9423.533063</td>\n",
       "    </tr>\n",
       "  </tbody>\n",
       "</table>\n",
       "<p>5 rows × 832 columns</p>\n",
       "</div>"
      ],
      "text/plain": [
       "               x0            x1           x2             x3          x4  \\\n",
       "id                                                                        \n",
       "0.0  14168.823171  10514.380717  3316.149698   94230.695124  102.386606   \n",
       "1.0  17757.037554           NaN  4101.016273   92959.527633         NaN   \n",
       "2.0  14226.656663  11029.642499          NaN  124055.600561  100.542483   \n",
       "3.0   8766.012436   7384.202998  2147.308418  100157.719990  104.855061   \n",
       "4.0  13801.016418  13269.493652  3408.316953   92048.527786  103.759758   \n",
       "\n",
       "             x5            x6            x7            x8         x9  ...  \\\n",
       "id                                                                    ...   \n",
       "0.0   92.677127  11108.748199  10866.505510  10837.622093  10.227734  ...   \n",
       "1.0   99.855168  10013.959449  10826.607494  10076.101597  11.436970  ...   \n",
       "2.0   92.860892           NaN  10492.342868           NaN  10.810076  ...   \n",
       "3.0  101.929026  10050.049932  10499.521099  10525.030989  10.092109  ...   \n",
       "4.0   95.789235   9667.353978  10750.783106  10618.800750  12.006773  ...   \n",
       "\n",
       "             x822          x823        x824        x825        x826  \\\n",
       "id                                                                    \n",
       "0.0           NaN  12352.094085  846.014651  105.132144  102.112809   \n",
       "1.0           NaN  16198.071494  776.084467  106.385590  103.472030   \n",
       "2.0  10329.704431  13976.063780  737.040332  103.671234  109.458246   \n",
       "3.0  10008.251395   6212.127347  329.044233  105.084488  104.858546   \n",
       "4.0  10095.782015  13772.061493         NaN         NaN  100.369834   \n",
       "\n",
       "            x827      x828         x829         x830          x831  \n",
       "id                                                                  \n",
       "0.0  2090.004260  2.691845  1234.374109  1000.784475   9285.751272  \n",
       "1.0  2474.051881  2.287976          NaN  1012.626705  11750.284764  \n",
       "2.0  2656.083281  2.843706   888.353607  1048.810385   9553.922728  \n",
       "3.0  1097.785204  2.732257   927.752967  1048.357330           NaN  \n",
       "4.0  2693.053231  2.702908  1471.354073  1071.284484   9423.533063  \n",
       "\n",
       "[5 rows x 832 columns]"
      ]
     },
     "execution_count": 15,
     "metadata": {},
     "output_type": "execute_result"
    }
   ],
   "source": [
    "dftrain_x.head()"
   ]
  },
  {
   "cell_type": "markdown",
   "id": "1cbdb186",
   "metadata": {},
   "source": [
    "# Imputation - Regression"
   ]
  },
  {
   "cell_type": "code",
   "execution_count": 16,
   "id": "68b6efee",
   "metadata": {},
   "outputs": [],
   "source": [
    "#imputer\n",
    "from sklearn.impute import SimpleImputer\n",
    "imputer = SimpleImputer(strategy='mean')"
   ]
  },
  {
   "cell_type": "code",
   "execution_count": 17,
   "id": "358c9e92",
   "metadata": {},
   "outputs": [],
   "source": [
    "#Linear Regression Model\n",
    "from sklearn.linear_model import LinearRegression\n",
    "LR = LinearRegression() "
   ]
  },
  {
   "cell_type": "code",
   "execution_count": 18,
   "id": "b13a0d38",
   "metadata": {},
   "outputs": [],
   "source": [
    "#feature selection\n",
    "from sklearn.feature_selection import SelectKBest\n",
    "from sklearn.feature_selection import f_regression\n",
    "select = SelectKBest(score_func=f_regression, k=200)"
   ]
  },
  {
   "cell_type": "code",
   "execution_count": 19,
   "id": "b010a114",
   "metadata": {},
   "outputs": [],
   "source": [
    "from sklearn.kernel_ridge import KernelRidge\n",
    "krr = KernelRidge(alpha=0.001, kernel=RBF())"
   ]
  },
  {
   "cell_type": "code",
   "execution_count": 20,
   "id": "052ccf32",
   "metadata": {},
   "outputs": [],
   "source": [
    "# Scaler robust to outliers\n",
    "from sklearn.preprocessing import RobustScaler\n",
    "scaler = RobustScaler()"
   ]
  },
  {
   "cell_type": "code",
   "execution_count": 21,
   "id": "e59651e4",
   "metadata": {},
   "outputs": [],
   "source": [
    "kernel = RationalQuadratic() #Matern(nu=0.5) + DotProduct() + WhiteKernel()\n",
    "GP_model = GaussianProcessRegressor(kernel=kernel,n_restarts_optimizer=2, normalize_y=True)"
   ]
  },
  {
   "cell_type": "code",
   "execution_count": 22,
   "id": "11a74ff3",
   "metadata": {
    "scrolled": true
   },
   "outputs": [
    {
     "data": {
      "text/plain": [
       "(832, 832)"
      ]
     },
     "execution_count": 22,
     "metadata": {},
     "output_type": "execute_result"
    }
   ],
   "source": [
    "#correlation matrix\n",
    "rho = dftrain_x.corr()\n",
    "rho.shape"
   ]
  },
  {
   "cell_type": "code",
   "execution_count": 33,
   "id": "bc205d36",
   "metadata": {},
   "outputs": [
    {
     "data": {
      "text/plain": [
       "id\n",
       "0.0                 NaN\n",
       "1.0        93597.905770\n",
       "2.0        95465.411441\n",
       "3.0        97849.596135\n",
       "4.0        97516.244060\n",
       "              ...      \n",
       "1207.0    112985.374841\n",
       "1208.0     71471.563949\n",
       "1209.0     96122.512224\n",
       "1210.0              NaN\n",
       "1211.0    100292.139964\n",
       "Name: x10, Length: 1212, dtype: float64"
      ]
     },
     "execution_count": 33,
     "metadata": {},
     "output_type": "execute_result"
    }
   ],
   "source": [
    "dftrain_x[col1]"
   ]
  },
  {
   "cell_type": "code",
   "execution_count": 45,
   "id": "5fadeb97",
   "metadata": {},
   "outputs": [
    {
     "data": {
      "image/png": "[encoded data removed]",
      "text/plain": [
       "<Figure size 432x288 with 1 Axes>"
      ]
     },
     "metadata": {
      "needs_background": "light"
     },
     "output_type": "display_data"
    }
   ],
   "source": [
    "import matplotlib.pyplot as plt\n",
    "import numpy.linalg as LA \n",
    "#plot data\n",
    "col1 = 'x0'\n",
    "corr = list(dftrain_x[rho.iloc[:,int(col[1:])].nlargest(2).index])[1]\n",
    "col2 = dftrain_x[corr]\n",
    "\n",
    "\n",
    "x = list(dftrain_x[col1])\n",
    "y = list(col2)\n",
    "\n",
    "plt.plot(x,y, 'o', c='lime',\n",
    "            markeredgewidth = 0.5,\n",
    "            markeredgecolor = 'black')\n",
    "plt.xlabel(col1)\n",
    "plt.ylabel(corr)\n",
    "plt.axis('equal')\n",
    "plt.show()\n"
   ]
  },
  {
   "cell_type": "code",
   "execution_count": null,
   "id": "d8bf335c",
   "metadata": {
    "scrolled": false
   },
   "outputs": [],
   "source": [
    "N = 2 #number of most correlated features\n",
    "const_rows = []\n",
    "selected_rows = []\n",
    "for col in dftrain_x.columns:\n",
    "    model = LR\n",
    "    #index of nan values\n",
    "    index = dftrain_x[col].index[dftrain_x[col].apply(np.isnan)]\n",
    "    \n",
    "    #constant rows\n",
    "    if dftrain_x[col].min() == dftrain_x[col].max():\n",
    "        const_rows.append(col)\n",
    "        continue\n",
    "    \n",
    "    #find rows with n highest correlation\n",
    "    corr_features = dftrain_x[rho.iloc[:,int(col[1:])].nlargest(N).index]\n",
    "    \n",
    "    #cut out nan-rows\n",
    "    nan_rows = corr_features[corr_features[col].isnull()]\n",
    "    \n",
    "    #test and train data\n",
    "    valid_rows = corr_features.drop(axis=0, index=index, inplace = False)\n",
    "    y = valid_rows.pop(col)\n",
    "    X = valid_rows\n",
    "    \n",
    "    #impute missing values for prediction\n",
    "    X = imputer.fit_transform(X)\n",
    "    \n",
    "    #scale\n",
    "    X = scaler.fit_transform(X)\n",
    "    \n",
    "    #cross validation\n",
    "    scores = cross_validate(model, X, y, cv=5,\n",
    "                    scoring=('r2'),\n",
    "                    return_train_score=True,\n",
    "                    n_jobs=4)\n",
    "    print(col, scores['test_score'].mean(),corr_features.columns)\n",
    "    \n",
    "    #add to selection\n",
    "    if scores['test_score'].mean() >= 0.7:\n",
    "        selected_rows.append(col)\n",
    "    \n",
    "    #fit model\n",
    "    model.fit(X,y)\n",
    "    \n",
    "    #predict nan values\n",
    "    nan_rows.pop(col)\n",
    "    prediction_rows = nan_rows\n",
    "    prediction_rows = imputer.fit_transform(prediction_rows)\n",
    "    prediction_rows = scaler.fit_transform(prediction_rows)\n",
    "    predicted_nan_values = model.predict(prediction_rows)\n",
    "    \n",
    "    #replace values\n",
    "    dftrain_x.loc[index,col] = predicted_nan_values\n",
    "    \n",
    "    "
   ]
  },
  {
   "cell_type": "code",
   "execution_count": null,
   "id": "da93131e",
   "metadata": {},
   "outputs": [],
   "source": [
    "#number of correlated features\n",
    "dftrain_x_selected = dftrain_x[selected_rows]\n",
    "dftest_x_selected = dftest_x[selected_rows]\n",
    "print(\"number of selected features: \", len(selected_rows))"
   ]
  },
  {
   "cell_type": "code",
   "execution_count": null,
   "id": "72ceba8f",
   "metadata": {},
   "outputs": [],
   "source": [
    "#heatmap of correlation matrix\n",
    "import seaborn as sns\n",
    "plt.subplots(figsize=(20,20)) \n",
    "sns.heatmap(dftrain_x.corr())"
   ]
  },
  {
   "cell_type": "markdown",
   "id": "616279ab",
   "metadata": {},
   "source": [
    "# Imputation As Before"
   ]
  },
  {
   "cell_type": "code",
   "execution_count": null,
   "id": "ccdc7d6f",
   "metadata": {},
   "outputs": [],
   "source": [
    "dftrain_x2 = pd.read_csv('X_train.csv', index_col='id')\n",
    "dftrain_y2 = pd.read_csv('y_train.csv', index_col='id')\n",
    "dftest_x2 = pd.read_csv('X_test.csv', index_col='id')\n",
    "\n",
    "dftrain_x2[selected_rows] = dftrain_x[selected_rows]\n",
    "dftest_x2[selected_rows] = dftest_x[selected_rows]\n",
    "\n",
    "imputer = SimpleImputer(strategy='mean')\n",
    "X_train_imp = imputer.fit_transform(dftrain_x2)\n",
    "X_test_imp = imputer.transform(dftest_x2)\n",
    "\n",
    "X_train_imp = pd.DataFrame(X_train_imp, columns=dftrain_x2.columns)\n",
    "X_test_imp = pd.DataFrame(X_test_imp, columns=dftest_x2.columns)"
   ]
  },
  {
   "cell_type": "markdown",
   "id": "2af03dea",
   "metadata": {},
   "source": [
    "# Scaling"
   ]
  },
  {
   "cell_type": "code",
   "execution_count": null,
   "id": "2bfd433d",
   "metadata": {},
   "outputs": [],
   "source": [
    "# Scaler robust to outliers\n",
    "from sklearn.preprocessing import RobustScaler\n",
    "scaler = RobustScaler()\n",
    "X_train_scaled = scaler.fit_transform(X_train_imp)\n",
    "X_test_scaled = scaler.transform(X_test_imp)\n",
    "\n",
    "X_train_scaled = pd.DataFrame(X_train_scaled, columns=dftrain_x2.columns)\n",
    "X_test_scaled = pd.DataFrame(X_test_scaled, columns=dftest_x2.columns)"
   ]
  },
  {
   "cell_type": "code",
   "execution_count": null,
   "id": "5831b325",
   "metadata": {},
   "outputs": [],
   "source": [
    "X_train_scaled.head()"
   ]
  },
  {
   "cell_type": "markdown",
   "id": "169553fb",
   "metadata": {},
   "source": [
    "# Feature Selection"
   ]
  },
  {
   "cell_type": "code",
   "execution_count": null,
   "id": "146f7745",
   "metadata": {},
   "outputs": [],
   "source": [
    "from sklearn.feature_selection import SelectKBest\n",
    "from sklearn.feature_selection import f_regression\n",
    "select = SelectKBest(score_func=f_regression, k=200)\n",
    "X_train_select = select.fit_transform(X_train_scaled, np.array(dftrain_y2).ravel())\n",
    "X_test_select = select.transform(X_test_scaled)\n",
    "\n",
    "X_train_select = pd.DataFrame(X_train_select)\n",
    "X_test_select = pd.DataFrame(X_test_select)"
   ]
  },
  {
   "cell_type": "markdown",
   "id": "972b458d",
   "metadata": {},
   "source": [
    "# Gaussian Processes"
   ]
  },
  {
   "cell_type": "code",
   "execution_count": null,
   "id": "ef6d41e4",
   "metadata": {},
   "outputs": [],
   "source": [
    "#train model - Gaussian process\n",
    "kernel = RationalQuadratic() #Matern(nu=0.5) + DotProduct() + WhiteKernel()\n",
    "GP_model = GaussianProcessRegressor(kernel=kernel,n_restarts_optimizer=5, normalize_y=True)"
   ]
  },
  {
   "cell_type": "markdown",
   "id": "523203b5",
   "metadata": {},
   "source": [
    "# Cross Validation"
   ]
  },
  {
   "cell_type": "code",
   "execution_count": null,
   "id": "2a92fb8f",
   "metadata": {},
   "outputs": [],
   "source": [
    "from sklearn.model_selection import cross_validate\n",
    "scores = cross_validate(GP_model, X_train_select, dftrain_y2, cv=3,\n",
    "                    scoring=('r2'),\n",
    "                    return_train_score=True,\n",
    "                    n_jobs=4)\n"
   ]
  },
  {
   "cell_type": "code",
   "execution_count": null,
   "id": "7ebd4743",
   "metadata": {},
   "outputs": [],
   "source": [
    "print(scores['test_score'])"
   ]
  },
  {
   "cell_type": "markdown",
   "id": "8cb239d1",
   "metadata": {},
   "source": [
    "# Kernelized Ridge Rigression"
   ]
  },
  {
   "cell_type": "code",
   "execution_count": null,
   "id": "204aa1a2",
   "metadata": {},
   "outputs": [],
   "source": [
    "from sklearn.kernel_ridge import KernelRidge\n",
    "\n",
    "for mu in range(1,2):\n",
    "        krr = KernelRidge(alpha=0.001, kernel=RBF())\n",
    "        scores = cross_validate(krr, X_train_select, dftrain_y2, cv=10,\n",
    "                    scoring=('r2'),\n",
    "                    return_train_score=True,\n",
    "                    n_jobs=4)\n",
    "        print(mu, scores['test_score'].mean())"
   ]
  },
  {
   "cell_type": "code",
   "execution_count": null,
   "id": "bac131bd",
   "metadata": {},
   "outputs": [],
   "source": [
    "print(scores['test_score'])"
   ]
  },
  {
   "cell_type": "code",
   "execution_count": null,
   "id": "1d1827b0",
   "metadata": {},
   "outputs": [],
   "source": []
  }
 ],
 "metadata": {
  "kernelspec": {
   "display_name": "Python 3 (ipykernel)",
   "language": "python",
   "name": "python3"
  },
  "language_info": {
   "codemirror_mode": {
    "name": "ipython",
    "version": 3
   },
   "file_extension": ".py",
   "mimetype": "text/x-python",
   "name": "python",
   "nbconvert_exporter": "python",
   "pygments_lexer": "ipython3",
   "version": "3.8.13"
  }
 },
 "nbformat": 4,
 "nbformat_minor": 5
}
