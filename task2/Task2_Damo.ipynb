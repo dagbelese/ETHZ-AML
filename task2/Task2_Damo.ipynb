{
 "cells": [
  {
   "cell_type": "code",
   "execution_count": 1,
   "id": "1ba6ac26-92ba-4cd1-aca3-0d94487544ca",
   "metadata": {},
   "outputs": [],
   "source": [
    "# Import necessary libraries\n",
    "import csv\n",
    "import os\n",
    "\n",
    "import biosppy.signals.ecg as ecg\n",
    "import neurokit2 as nk\n",
    "\n",
    "import matplotlib.pyplot as plt\n",
    "import numpy as np\n",
    "import pandas as pd\n",
    "\n",
    "from tqdm import tqdm"
   ]
  },
  {
   "cell_type": "code",
   "execution_count": 2,
   "id": "b932c35b-ca2e-4512-800e-a0653226bb34",
   "metadata": {},
   "outputs": [],
   "source": [
    "# Load dataset\n",
    "X = pd.read_csv('X_train.csv', index_col='id')\n",
    "y = pd.read_csv('y_train.csv', index_col='id')\n",
    "X_test_sub = pd.read_csv('X_test.csv', index_col='id')"
   ]
  },
  {
   "cell_type": "code",
   "execution_count": 3,
   "id": "5eb4e25a-6dce-49e7-aaf4-068bc348a588",
   "metadata": {},
   "outputs": [
    {
     "name": "stdout",
     "output_type": "stream",
     "text": [
      "Shape of training dataset: (5117, 17807)\n",
      "Shape of testing dataset: (3411, 17807)\n"
     ]
    }
   ],
   "source": [
    "print(\"Shape of training dataset: {}\".format(X.shape))\n",
    "print(\"Shape of testing dataset: {}\".format(X_test_sub.shape))"
   ]
  },
  {
   "cell_type": "markdown",
   "id": "370ddc3e-184f-45d7-8475-d397947c971e",
   "metadata": {},
   "source": [
    "# Preprocessing"
   ]
  },
  {
   "cell_type": "markdown",
   "id": "af046d37-0538-48ea-aed3-4e46f63ed922",
   "metadata": {},
   "source": [
    "### Feature Extraction "
   ]
  },
  {
   "cell_type": "code",
   "execution_count": 65,
   "id": "1a0690e5-3ef1-40be-a883-732d66c17fda",
   "metadata": {},
   "outputs": [],
   "source": [
    "def feature_extraction(signal):\n",
    "    extracted_features = []        \n",
    "    # ECG Signal Cleaning\n",
    "    signal_clean = nk.ecg_clean(signal, 300)\n",
    "    # Find ECG Signal Peaks\n",
    "    sig_r_peaks, r_peaks = nk.ecg_peaks(signal_clean, sampling_rate=300)\n",
    "    if sig_r_peaks['ECG_R_Peaks'].sum() >= 4:\n",
    "        sig_waves_peaks, waves_peak = nk.ecg_delineate(signal, r_peaks, sampling_rate=300, method='peak', show=False)\n",
    "        r_peaks = [x for x in r_peaks['ECG_R_Peaks'] if np.isnan(x) == False]\n",
    "        p_peaks = [x for x in waves_peak['ECG_P_Peaks'] if np.isnan(x) == False]\n",
    "        q_peaks = [x for x in waves_peak['ECG_Q_Peaks'] if np.isnan(x) == False]\n",
    "        s_peaks = [x for x in waves_peak['ECG_S_Peaks'] if np.isnan(x) == False]\n",
    "        t_peaks = [x for x in waves_peak['ECG_T_Peaks'] if np.isnan(x) == False]\n",
    "    \n",
    "        # R,P,Q,S and T peaks (mean and std of amplitude)\n",
    "        extracted_features.append(np.mean(signal_clean[r_peaks]))\n",
    "        extracted_features.append(np.std(signal_clean[r_peaks]))\n",
    "        extracted_features.append(np.mean(signal_clean[p_peaks]))\n",
    "        extracted_features.append(np.std(signal_clean[p_peaks]))\n",
    "        extracted_features.append(np.mean(signal_clean[q_peaks]))\n",
    "        extracted_features.append(np.std(signal_clean[q_peaks]))\n",
    "        extracted_features.append(np.mean(signal_clean[s_peaks]))\n",
    "        extracted_features.append(np.std(signal_clean[s_peaks]))\n",
    "        extracted_features.append(np.mean(signal_clean[t_peaks]))\n",
    "        extracted_features.append(np.std(signal_clean[t_peaks]))\n",
    "    \n",
    "        # Time-domain measures HRV metrics\n",
    "        hrv_time = nk.hrv_time(sig_r_peaks, sampling_rate=300, show=False)\n",
    "        extracted_features.append(hrv_time['HRV_MeanNN'][0])\n",
    "        extracted_features.append(hrv_time['HRV_SDNN'][0])\n",
    "        extracted_features.append(hrv_time['HRV_RMSSD'][0])\n",
    "        extracted_features.append(hrv_time['HRV_SDSD'][0])\n",
    "        extracted_features.append(hrv_time['HRV_MinNN'][0])\n",
    "        extracted_features.append(hrv_time['HRV_MaxNN'][0])\n",
    "    else:\n",
    "        for i in range(16):\n",
    "            extracted_features.append(np.nan)\n",
    "    \n",
    "    # Frequency-domain HRV metrics\n",
    "    #hrv_freq = nk.hrv_frequency(sig_r_peaks, sampling_rate=300, silent=False,show=True)\n",
    "\n",
    "    return np.asarray(extracted_features)"
   ]
  },
  {
   "cell_type": "code",
   "execution_count": 43,
   "id": "c968f3c5-dfca-4319-afd6-dcc003c1d53d",
   "metadata": {},
   "outputs": [
    {
     "name": "stdout",
     "output_type": "stream",
     "text": [
      "[ 26.60090522  29.28583889  32.02673737 ... -44.93023267 -36.71436922\n",
      " -28.16187504]\n",
      "(16322,)\n",
      "[360.73804942  60.60299383  23.23128597  54.2089349  -75.32994529\n",
      "  37.06043352 -94.13679695  39.10238103 212.40333529  54.65280278\n",
      " 815.90909091  64.94125012  63.18471091  63.22160354 326.66666667\n",
      " 853.33333333]\n"
     ]
    }
   ],
   "source": [
    "# Testing of feature function on one sample from training set\n",
    "one_sample = X.loc[0].dropna().to_numpy(dtype='float32')\n",
    "features_one_sample = feature_extraction(one_sample)\n",
    "print(one_sample.shape)\n",
    "print(features_one_sample)"
   ]
  },
  {
   "cell_type": "code",
   "execution_count": 63,
   "id": "5ec6c833",
   "metadata": {},
   "outputs": [
    {
     "name": "stdout",
     "output_type": "stream",
     "text": [
      "(5687,)\n",
      "(5687,)\n"
     ]
    }
   ],
   "source": [
    "# Testing of feature function on one sample from testing set\n",
    "one_sample = X_test_sub.loc[700].dropna().to_numpy(dtype='float32')\n",
    "features_one_sample = feature_extraction(one_sample)\n",
    "print(one_sample.shape)\n",
    "print(features_one_sample)"
   ]
  },
  {
   "cell_type": "code",
   "execution_count": 23,
   "id": "3ccf31dc-af1d-439b-ac81-58772a8f631d",
   "metadata": {},
   "outputs": [
    {
     "name": "stderr",
     "output_type": "stream",
     "text": [
      "  2%|▊                                       | 105/5117 [00:17<15:45,  5.30it/s]/Users/damolaagbelese/opt/anaconda3/envs/MachineLearning/lib/python3.9/site-packages/numpy/core/fromnumeric.py:3440: RuntimeWarning: Mean of empty slice.\n",
      "  return _methods._mean(a, axis=axis, dtype=dtype,\n",
      "/Users/damolaagbelese/opt/anaconda3/envs/MachineLearning/lib/python3.9/site-packages/numpy/core/_methods.py:189: RuntimeWarning: invalid value encountered in double_scalars\n",
      "  ret = ret.dtype.type(ret / rcount)\n",
      "/Users/damolaagbelese/opt/anaconda3/envs/MachineLearning/lib/python3.9/site-packages/numpy/core/_methods.py:262: RuntimeWarning: Degrees of freedom <= 0 for slice\n",
      "  ret = _var(a, axis=axis, dtype=dtype, out=out, ddof=ddof,\n",
      "/Users/damolaagbelese/opt/anaconda3/envs/MachineLearning/lib/python3.9/site-packages/numpy/core/_methods.py:222: RuntimeWarning: invalid value encountered in true_divide\n",
      "  arrmean = um.true_divide(arrmean, div, out=arrmean, casting='unsafe',\n",
      "/Users/damolaagbelese/opt/anaconda3/envs/MachineLearning/lib/python3.9/site-packages/numpy/core/_methods.py:254: RuntimeWarning: invalid value encountered in double_scalars\n",
      "  ret = ret.dtype.type(ret / rcount)\n",
      " 29%|███████████▍                           | 1497/5117 [04:13<08:15,  7.31it/s]/Users/damolaagbelese/opt/anaconda3/envs/MachineLearning/lib/python3.9/site-packages/numpy/core/fromnumeric.py:3440: RuntimeWarning: Mean of empty slice.\n",
      "  return _methods._mean(a, axis=axis, dtype=dtype,\n",
      "/Users/damolaagbelese/opt/anaconda3/envs/MachineLearning/lib/python3.9/site-packages/numpy/core/_methods.py:189: RuntimeWarning: invalid value encountered in double_scalars\n",
      "  ret = ret.dtype.type(ret / rcount)\n",
      "/Users/damolaagbelese/opt/anaconda3/envs/MachineLearning/lib/python3.9/site-packages/numpy/core/_methods.py:262: RuntimeWarning: Degrees of freedom <= 0 for slice\n",
      "  ret = _var(a, axis=axis, dtype=dtype, out=out, ddof=ddof,\n",
      "/Users/damolaagbelese/opt/anaconda3/envs/MachineLearning/lib/python3.9/site-packages/numpy/core/_methods.py:222: RuntimeWarning: invalid value encountered in true_divide\n",
      "  arrmean = um.true_divide(arrmean, div, out=arrmean, casting='unsafe',\n",
      "/Users/damolaagbelese/opt/anaconda3/envs/MachineLearning/lib/python3.9/site-packages/numpy/core/_methods.py:254: RuntimeWarning: invalid value encountered in double_scalars\n",
      "  ret = ret.dtype.type(ret / rcount)\n",
      " 53%|████████████████████▋                  | 2712/5117 [07:42<09:29,  4.23it/s]/Users/damolaagbelese/opt/anaconda3/envs/MachineLearning/lib/python3.9/site-packages/numpy/core/fromnumeric.py:3440: RuntimeWarning: Mean of empty slice.\n",
      "  return _methods._mean(a, axis=axis, dtype=dtype,\n",
      "/Users/damolaagbelese/opt/anaconda3/envs/MachineLearning/lib/python3.9/site-packages/numpy/core/_methods.py:189: RuntimeWarning: invalid value encountered in double_scalars\n",
      "  ret = ret.dtype.type(ret / rcount)\n",
      "/Users/damolaagbelese/opt/anaconda3/envs/MachineLearning/lib/python3.9/site-packages/numpy/core/_methods.py:262: RuntimeWarning: Degrees of freedom <= 0 for slice\n",
      "  ret = _var(a, axis=axis, dtype=dtype, out=out, ddof=ddof,\n",
      "/Users/damolaagbelese/opt/anaconda3/envs/MachineLearning/lib/python3.9/site-packages/numpy/core/_methods.py:222: RuntimeWarning: invalid value encountered in true_divide\n",
      "  arrmean = um.true_divide(arrmean, div, out=arrmean, casting='unsafe',\n",
      "/Users/damolaagbelese/opt/anaconda3/envs/MachineLearning/lib/python3.9/site-packages/numpy/core/_methods.py:254: RuntimeWarning: invalid value encountered in double_scalars\n",
      "  ret = ret.dtype.type(ret / rcount)\n",
      " 63%|████████████████████████▋              | 3245/5117 [09:13<05:12,  6.00it/s]/Users/damolaagbelese/opt/anaconda3/envs/MachineLearning/lib/python3.9/site-packages/numpy/core/fromnumeric.py:3440: RuntimeWarning: Mean of empty slice.\n",
      "  return _methods._mean(a, axis=axis, dtype=dtype,\n",
      "/Users/damolaagbelese/opt/anaconda3/envs/MachineLearning/lib/python3.9/site-packages/numpy/core/_methods.py:189: RuntimeWarning: invalid value encountered in double_scalars\n",
      "  ret = ret.dtype.type(ret / rcount)\n",
      "/Users/damolaagbelese/opt/anaconda3/envs/MachineLearning/lib/python3.9/site-packages/numpy/core/_methods.py:262: RuntimeWarning: Degrees of freedom <= 0 for slice\n",
      "  ret = _var(a, axis=axis, dtype=dtype, out=out, ddof=ddof,\n",
      "/Users/damolaagbelese/opt/anaconda3/envs/MachineLearning/lib/python3.9/site-packages/numpy/core/_methods.py:222: RuntimeWarning: invalid value encountered in true_divide\n",
      "  arrmean = um.true_divide(arrmean, div, out=arrmean, casting='unsafe',\n",
      "/Users/damolaagbelese/opt/anaconda3/envs/MachineLearning/lib/python3.9/site-packages/numpy/core/_methods.py:254: RuntimeWarning: invalid value encountered in double_scalars\n",
      "  ret = ret.dtype.type(ret / rcount)\n",
      " 72%|███████████████████████████▉           | 3667/5117 [10:24<04:09,  5.80it/s]/Users/damolaagbelese/opt/anaconda3/envs/MachineLearning/lib/python3.9/site-packages/numpy/core/fromnumeric.py:3440: RuntimeWarning: Mean of empty slice.\n",
      "  return _methods._mean(a, axis=axis, dtype=dtype,\n",
      "/Users/damolaagbelese/opt/anaconda3/envs/MachineLearning/lib/python3.9/site-packages/numpy/core/_methods.py:189: RuntimeWarning: invalid value encountered in double_scalars\n",
      "  ret = ret.dtype.type(ret / rcount)\n",
      "/Users/damolaagbelese/opt/anaconda3/envs/MachineLearning/lib/python3.9/site-packages/numpy/core/_methods.py:262: RuntimeWarning: Degrees of freedom <= 0 for slice\n",
      "  ret = _var(a, axis=axis, dtype=dtype, out=out, ddof=ddof,\n",
      "/Users/damolaagbelese/opt/anaconda3/envs/MachineLearning/lib/python3.9/site-packages/numpy/core/_methods.py:222: RuntimeWarning: invalid value encountered in true_divide\n",
      "  arrmean = um.true_divide(arrmean, div, out=arrmean, casting='unsafe',\n",
      "/Users/damolaagbelese/opt/anaconda3/envs/MachineLearning/lib/python3.9/site-packages/numpy/core/_methods.py:254: RuntimeWarning: invalid value encountered in double_scalars\n",
      "  ret = ret.dtype.type(ret / rcount)\n",
      " 78%|██████████████████████████████▎        | 3979/5117 [11:19<03:45,  5.05it/s]/Users/damolaagbelese/opt/anaconda3/envs/MachineLearning/lib/python3.9/site-packages/numpy/core/fromnumeric.py:3440: RuntimeWarning: Mean of empty slice.\n",
      "  return _methods._mean(a, axis=axis, dtype=dtype,\n",
      "/Users/damolaagbelese/opt/anaconda3/envs/MachineLearning/lib/python3.9/site-packages/numpy/core/_methods.py:189: RuntimeWarning: invalid value encountered in double_scalars\n",
      "  ret = ret.dtype.type(ret / rcount)\n",
      "/Users/damolaagbelese/opt/anaconda3/envs/MachineLearning/lib/python3.9/site-packages/numpy/core/_methods.py:262: RuntimeWarning: Degrees of freedom <= 0 for slice\n",
      "  ret = _var(a, axis=axis, dtype=dtype, out=out, ddof=ddof,\n",
      "/Users/damolaagbelese/opt/anaconda3/envs/MachineLearning/lib/python3.9/site-packages/numpy/core/_methods.py:222: RuntimeWarning: invalid value encountered in true_divide\n",
      "  arrmean = um.true_divide(arrmean, div, out=arrmean, casting='unsafe',\n",
      "/Users/damolaagbelese/opt/anaconda3/envs/MachineLearning/lib/python3.9/site-packages/numpy/core/_methods.py:254: RuntimeWarning: invalid value encountered in double_scalars\n",
      "  ret = ret.dtype.type(ret / rcount)\n",
      " 85%|█████████████████████████████████▏     | 4356/5117 [12:22<01:57,  6.47it/s]/Users/damolaagbelese/opt/anaconda3/envs/MachineLearning/lib/python3.9/site-packages/numpy/core/fromnumeric.py:3440: RuntimeWarning: Mean of empty slice.\n",
      "  return _methods._mean(a, axis=axis, dtype=dtype,\n",
      "/Users/damolaagbelese/opt/anaconda3/envs/MachineLearning/lib/python3.9/site-packages/numpy/core/_methods.py:189: RuntimeWarning: invalid value encountered in double_scalars\n",
      "  ret = ret.dtype.type(ret / rcount)\n",
      "/Users/damolaagbelese/opt/anaconda3/envs/MachineLearning/lib/python3.9/site-packages/numpy/core/_methods.py:262: RuntimeWarning: Degrees of freedom <= 0 for slice\n",
      "  ret = _var(a, axis=axis, dtype=dtype, out=out, ddof=ddof,\n",
      "/Users/damolaagbelese/opt/anaconda3/envs/MachineLearning/lib/python3.9/site-packages/numpy/core/_methods.py:222: RuntimeWarning: invalid value encountered in true_divide\n",
      "  arrmean = um.true_divide(arrmean, div, out=arrmean, casting='unsafe',\n",
      "/Users/damolaagbelese/opt/anaconda3/envs/MachineLearning/lib/python3.9/site-packages/numpy/core/_methods.py:254: RuntimeWarning: invalid value encountered in double_scalars\n",
      "  ret = ret.dtype.type(ret / rcount)\n"
     ]
    },
    {
     "name": "stderr",
     "output_type": "stream",
     "text": [
      "100%|███████████████████████████████████████| 5117/5117 [14:32<00:00,  5.86it/s]\n"
     ]
    }
   ],
   "source": [
    "# Transform training dataset of ecg signal into features\n",
    "X_feat = np.zeros(shape=(X.shape[0],16))\n",
    "for i in tqdm(range(X.shape[0])):\n",
    "    X_feat[i] = feature_extraction(X.loc[i].dropna().to_numpy(dtype='float32'))"
   ]
  },
  {
   "cell_type": "code",
   "execution_count": 66,
   "id": "762d8eae",
   "metadata": {},
   "outputs": [
    {
     "name": "stderr",
     "output_type": "stream",
     "text": [
      " 12%|████▋                                   | 402/3411 [01:10<10:50,  4.62it/s]/Users/damolaagbelese/opt/anaconda3/envs/MachineLearning/lib/python3.9/site-packages/numpy/core/fromnumeric.py:3440: RuntimeWarning: Mean of empty slice.\n",
      "  return _methods._mean(a, axis=axis, dtype=dtype,\n",
      "/Users/damolaagbelese/opt/anaconda3/envs/MachineLearning/lib/python3.9/site-packages/numpy/core/_methods.py:262: RuntimeWarning: Degrees of freedom <= 0 for slice\n",
      "  ret = _var(a, axis=axis, dtype=dtype, out=out, ddof=ddof,\n",
      " 20%|███████▉                                | 673/3411 [01:57<06:31,  6.99it/s]/Users/damolaagbelese/opt/anaconda3/envs/MachineLearning/lib/python3.9/site-packages/numpy/core/fromnumeric.py:3440: RuntimeWarning: Mean of empty slice.\n",
      "  return _methods._mean(a, axis=axis, dtype=dtype,\n",
      "/Users/damolaagbelese/opt/anaconda3/envs/MachineLearning/lib/python3.9/site-packages/numpy/core/_methods.py:262: RuntimeWarning: Degrees of freedom <= 0 for slice\n",
      "  ret = _var(a, axis=axis, dtype=dtype, out=out, ddof=ddof,\n",
      " 22%|████████▊                               | 749/3411 [02:10<06:29,  6.83it/s]/Users/damolaagbelese/opt/anaconda3/envs/MachineLearning/lib/python3.9/site-packages/numpy/core/fromnumeric.py:3440: RuntimeWarning: Mean of empty slice.\n",
      "  return _methods._mean(a, axis=axis, dtype=dtype,\n",
      "/Users/damolaagbelese/opt/anaconda3/envs/MachineLearning/lib/python3.9/site-packages/numpy/core/_methods.py:262: RuntimeWarning: Degrees of freedom <= 0 for slice\n",
      "  ret = _var(a, axis=axis, dtype=dtype, out=out, ddof=ddof,\n",
      " 24%|█████████▌                              | 819/3411 [02:23<06:44,  6.40it/s]/Users/damolaagbelese/opt/anaconda3/envs/MachineLearning/lib/python3.9/site-packages/numpy/core/fromnumeric.py:3440: RuntimeWarning: Mean of empty slice.\n",
      "  return _methods._mean(a, axis=axis, dtype=dtype,\n",
      "/Users/damolaagbelese/opt/anaconda3/envs/MachineLearning/lib/python3.9/site-packages/numpy/core/_methods.py:262: RuntimeWarning: Degrees of freedom <= 0 for slice\n",
      "  ret = _var(a, axis=axis, dtype=dtype, out=out, ddof=ddof,\n",
      " 25%|█████████▉                              | 846/3411 [02:27<06:03,  7.06it/s]/Users/damolaagbelese/opt/anaconda3/envs/MachineLearning/lib/python3.9/site-packages/numpy/core/fromnumeric.py:3440: RuntimeWarning: Mean of empty slice.\n",
      "  return _methods._mean(a, axis=axis, dtype=dtype,\n",
      "/Users/damolaagbelese/opt/anaconda3/envs/MachineLearning/lib/python3.9/site-packages/numpy/core/_methods.py:262: RuntimeWarning: Degrees of freedom <= 0 for slice\n",
      "  ret = _var(a, axis=axis, dtype=dtype, out=out, ddof=ddof,\n",
      " 56%|█████████████████████▉                 | 1920/3411 [05:49<03:42,  6.69it/s]/Users/damolaagbelese/opt/anaconda3/envs/MachineLearning/lib/python3.9/site-packages/numpy/core/fromnumeric.py:3440: RuntimeWarning: Mean of empty slice.\n",
      "  return _methods._mean(a, axis=axis, dtype=dtype,\n",
      "/Users/damolaagbelese/opt/anaconda3/envs/MachineLearning/lib/python3.9/site-packages/numpy/core/_methods.py:262: RuntimeWarning: Degrees of freedom <= 0 for slice\n",
      "  ret = _var(a, axis=axis, dtype=dtype, out=out, ddof=ddof,\n",
      "100%|███████████████████████████████████████| 3411/3411 [10:19<00:00,  5.51it/s]\n"
     ]
    }
   ],
   "source": [
    "# Transform testing dataset of ecg signal into features\n",
    "X_test_feat = np.zeros(shape=(X_test_sub.shape[0],16))\n",
    "for i in tqdm(range(X_test_sub.shape[0])):\n",
    "    X_test_feat[i] = feature_extraction(X_test_sub.loc[i].dropna().to_numpy(dtype='float32'))"
   ]
  },
  {
   "cell_type": "code",
   "execution_count": 67,
   "id": "d5d9eed8-99f6-4762-9a3e-89f6aaab0a1a",
   "metadata": {},
   "outputs": [],
   "source": [
    "# Create dataframe for training and testing\n",
    "columns = ['R-mean', 'R-std', 'P-mean', 'P-std', 'Q-mean', 'Q-std', 'S-mean', 'S-std', 'T-mean', 'T-std', 'MeanNN', 'SDNN', 'RMSSD', 'SDSD', 'MinNN', 'MaxNN']\n",
    "X_feat = pd.DataFrame(X_feat, columns=columns)\n",
    "X_feat.index.name = 'id'\n",
    "X_test_feat = pd.DataFrame(X_test_feat, columns=columns)\n",
    "X_test_feat.index.name = 'id'"
   ]
  },
  {
   "cell_type": "code",
   "execution_count": 68,
   "id": "51a4cda4",
   "metadata": {},
   "outputs": [],
   "source": [
    "# Save train and test features \n",
    "X_feat.to_csv('X_feat.csv')\n",
    "X_test_feat.to_csv('X_test_feat.csv')"
   ]
  },
  {
   "cell_type": "code",
   "execution_count": 69,
   "id": "e29dbadc",
   "metadata": {},
   "outputs": [],
   "source": [
    "# Load train and test features \n",
    "X_feat = pd.read_csv('X_feat.csv', index_col='id')\n",
    "X_test_feat = pd.read_csv('X_test_feat.csv', index_col='id')"
   ]
  },
  {
   "cell_type": "code",
   "execution_count": 70,
   "id": "b79fd7c9",
   "metadata": {},
   "outputs": [
    {
     "name": "stdout",
     "output_type": "stream",
     "text": [
      "Shape of feature training set: (5117, 16)\n",
      "Shape of feature testing set: (3411, 16)\n"
     ]
    }
   ],
   "source": [
    "print(\"Shape of feature training set: {}\".format(X_feat.shape))\n",
    "print(\"Shape of feature testing set: {}\".format(X_test_feat.shape))"
   ]
  },
  {
   "cell_type": "markdown",
   "id": "62f92273",
   "metadata": {},
   "source": [
    "### Imputation of missing values"
   ]
  },
  {
   "cell_type": "code",
   "execution_count": 71,
   "id": "c4bb66ca-88b8-45df-b15f-1ded9cc80daf",
   "metadata": {},
   "outputs": [],
   "source": [
    "from sklearn.impute import SimpleImputer\n",
    "imputer = SimpleImputer(strategy='median')\n",
    "X_train_imp = imputer.fit_transform(X_feat)\n",
    "X_test_imp = imputer.transform(X_test_feat)\n",
    "\n",
    "X_train_imp = pd.DataFrame(X_train_imp, columns=columns)\n",
    "X_test_imp = pd.DataFrame(X_test_imp, columns=columns)"
   ]
  },
  {
   "cell_type": "markdown",
   "id": "58e22fae",
   "metadata": {},
   "source": [
    "### Standardization"
   ]
  },
  {
   "cell_type": "code",
   "execution_count": 72,
   "id": "91501c2d",
   "metadata": {},
   "outputs": [],
   "source": [
    "# Standard Scaler\n",
    "from sklearn.preprocessing import StandardScaler\n",
    "scaler = StandardScaler()\n",
    "X_train_scaled = scaler.fit_transform(X_train_imp)\n",
    "X_test_scaled = scaler.transform(X_test_imp)\n",
    "\n",
    "X_train_scaled = pd.DataFrame(X_train_scaled, columns=columns)\n",
    "X_test_scaled = pd.DataFrame(X_test_scaled, columns=columns)"
   ]
  },
  {
   "cell_type": "markdown",
   "id": "e850a828-07da-49cf-9c5f-4df46a57f038",
   "metadata": {},
   "source": [
    "# Models"
   ]
  },
  {
   "cell_type": "code",
   "execution_count": 75,
   "id": "9e91a579",
   "metadata": {},
   "outputs": [],
   "source": [
    "# Train-Test-Split\n",
    "from sklearn.metrics import f1_score\n",
    "from sklearn.model_selection import train_test_split\n",
    "\n",
    "X_train, X_test, y_train, y_test = train_test_split(X_train_scaled, y, test_size=0.2) "
   ]
  },
  {
   "cell_type": "code",
   "execution_count": 77,
   "id": "e0e7a9e5",
   "metadata": {},
   "outputs": [
    {
     "name": "stderr",
     "output_type": "stream",
     "text": [
      " 50%|██████████████████████▌                      | 1/2 [00:09<00:09,  9.66s/it]"
     ]
    },
    {
     "name": "stdout",
     "output_type": "stream",
     "text": [
      "F1 score of RandomForest: 0.7734375\n"
     ]
    },
    {
     "name": "stderr",
     "output_type": "stream",
     "text": [
      "100%|█████████████████████████████████████████████| 2/2 [00:10<00:00,  5.11s/it]"
     ]
    },
    {
     "name": "stdout",
     "output_type": "stream",
     "text": [
      "F1 score of DecisionTree: 0.7451171875\n"
     ]
    },
    {
     "name": "stderr",
     "output_type": "stream",
     "text": [
      "\n"
     ]
    }
   ],
   "source": [
    "# Classifiers\n",
    "from sklearn.ensemble import BaggingClassifier\n",
    "from sklearn.ensemble import RandomForestClassifier\n",
    "from sklearn.tree import DecisionTreeClassifier\n",
    "classifiers = {}\n",
    "bagg_class = {}\n",
    "classifiers['RandomForest'] = RandomForestClassifier(criterion='log_loss', class_weight='balanced')\n",
    "classifiers['DecisionTree'] = DecisionTreeClassifier(criterion='log_loss', class_weight='balanced')\n",
    "\n",
    "for key, value in tqdm(classifiers.items()):\n",
    "    bagg_class[key] = BaggingClassifier(base_estimator=value, n_estimators=10).fit(X_train, np.array(y_train).ravel())\n",
    "    y_pred = bagg_class[key].predict(X_test)\n",
    "    F1 = f1_score(y_test, y_pred, average='micro')\n",
    "    print(\"F1 score of {}: {}\".format(key, F1))"
   ]
  },
  {
   "cell_type": "markdown",
   "id": "18377fb3",
   "metadata": {},
   "source": [
    "# Submission"
   ]
  },
  {
   "cell_type": "code",
   "execution_count": 78,
   "id": "6ae29d7e",
   "metadata": {},
   "outputs": [
    {
     "name": "stdout",
     "output_type": "stream",
     "text": [
      "Shape of training set: (5117, 16)\n",
      "Shape of training label: (5117, 1)\n"
     ]
    }
   ],
   "source": [
    "print('Shape of training set:', X_train_scaled.shape)\n",
    "print('Shape of training label:', y.shape)"
   ]
  },
  {
   "cell_type": "code",
   "execution_count": 79,
   "id": "a4fd816b",
   "metadata": {},
   "outputs": [
    {
     "data": {
      "text/html": [
       "<style>#sk-container-id-1 {color: black;background-color: white;}#sk-container-id-1 pre{padding: 0;}#sk-container-id-1 div.sk-toggleable {background-color: white;}#sk-container-id-1 label.sk-toggleable__label {cursor: pointer;display: block;width: 100%;margin-bottom: 0;padding: 0.3em;box-sizing: border-box;text-align: center;}#sk-container-id-1 label.sk-toggleable__label-arrow:before {content: \"▸\";float: left;margin-right: 0.25em;color: #696969;}#sk-container-id-1 label.sk-toggleable__label-arrow:hover:before {color: black;}#sk-container-id-1 div.sk-estimator:hover label.sk-toggleable__label-arrow:before {color: black;}#sk-container-id-1 div.sk-toggleable__content {max-height: 0;max-width: 0;overflow: hidden;text-align: left;background-color: #f0f8ff;}#sk-container-id-1 div.sk-toggleable__content pre {margin: 0.2em;color: black;border-radius: 0.25em;background-color: #f0f8ff;}#sk-container-id-1 input.sk-toggleable__control:checked~div.sk-toggleable__content {max-height: 200px;max-width: 100%;overflow: auto;}#sk-container-id-1 input.sk-toggleable__control:checked~label.sk-toggleable__label-arrow:before {content: \"▾\";}#sk-container-id-1 div.sk-estimator input.sk-toggleable__control:checked~label.sk-toggleable__label {background-color: #d4ebff;}#sk-container-id-1 div.sk-label input.sk-toggleable__control:checked~label.sk-toggleable__label {background-color: #d4ebff;}#sk-container-id-1 input.sk-hidden--visually {border: 0;clip: rect(1px 1px 1px 1px);clip: rect(1px, 1px, 1px, 1px);height: 1px;margin: -1px;overflow: hidden;padding: 0;position: absolute;width: 1px;}#sk-container-id-1 div.sk-estimator {font-family: monospace;background-color: #f0f8ff;border: 1px dotted black;border-radius: 0.25em;box-sizing: border-box;margin-bottom: 0.5em;}#sk-container-id-1 div.sk-estimator:hover {background-color: #d4ebff;}#sk-container-id-1 div.sk-parallel-item::after {content: \"\";width: 100%;border-bottom: 1px solid gray;flex-grow: 1;}#sk-container-id-1 div.sk-label:hover label.sk-toggleable__label {background-color: #d4ebff;}#sk-container-id-1 div.sk-serial::before {content: \"\";position: absolute;border-left: 1px solid gray;box-sizing: border-box;top: 0;bottom: 0;left: 50%;z-index: 0;}#sk-container-id-1 div.sk-serial {display: flex;flex-direction: column;align-items: center;background-color: white;padding-right: 0.2em;padding-left: 0.2em;position: relative;}#sk-container-id-1 div.sk-item {position: relative;z-index: 1;}#sk-container-id-1 div.sk-parallel {display: flex;align-items: stretch;justify-content: center;background-color: white;position: relative;}#sk-container-id-1 div.sk-item::before, #sk-container-id-1 div.sk-parallel-item::before {content: \"\";position: absolute;border-left: 1px solid gray;box-sizing: border-box;top: 0;bottom: 0;left: 50%;z-index: -1;}#sk-container-id-1 div.sk-parallel-item {display: flex;flex-direction: column;z-index: 1;position: relative;background-color: white;}#sk-container-id-1 div.sk-parallel-item:first-child::after {align-self: flex-end;width: 50%;}#sk-container-id-1 div.sk-parallel-item:last-child::after {align-self: flex-start;width: 50%;}#sk-container-id-1 div.sk-parallel-item:only-child::after {width: 0;}#sk-container-id-1 div.sk-dashed-wrapped {border: 1px dashed gray;margin: 0 0.4em 0.5em 0.4em;box-sizing: border-box;padding-bottom: 0.4em;background-color: white;}#sk-container-id-1 div.sk-label label {font-family: monospace;font-weight: bold;display: inline-block;line-height: 1.2em;}#sk-container-id-1 div.sk-label-container {text-align: center;}#sk-container-id-1 div.sk-container {/* jupyter's `normalize.less` sets `[hidden] { display: none; }` but bootstrap.min.css set `[hidden] { display: none !important; }` so we also need the `!important` here to be able to override the default hidden behavior on the sphinx rendered scikit-learn.org. See: https://github.com/scikit-learn/scikit-learn/issues/21755 */display: inline-block !important;position: relative;}#sk-container-id-1 div.sk-text-repr-fallback {display: none;}</style><div id=\"sk-container-id-1\" class=\"sk-top-container\"><div class=\"sk-text-repr-fallback\"><pre>BaggingClassifier(base_estimator=RandomForestClassifier(class_weight=&#x27;balanced&#x27;,\n",
       "                                                        criterion=&#x27;log_loss&#x27;))</pre><b>In a Jupyter environment, please rerun this cell to show the HTML representation or trust the notebook. <br />On GitHub, the HTML representation is unable to render, please try loading this page with nbviewer.org.</b></div><div class=\"sk-container\" hidden><div class=\"sk-item sk-dashed-wrapped\"><div class=\"sk-label-container\"><div class=\"sk-label sk-toggleable\"><input class=\"sk-toggleable__control sk-hidden--visually\" id=\"sk-estimator-id-1\" type=\"checkbox\" ><label for=\"sk-estimator-id-1\" class=\"sk-toggleable__label sk-toggleable__label-arrow\">BaggingClassifier</label><div class=\"sk-toggleable__content\"><pre>BaggingClassifier(base_estimator=RandomForestClassifier(class_weight=&#x27;balanced&#x27;,\n",
       "                                                        criterion=&#x27;log_loss&#x27;))</pre></div></div></div><div class=\"sk-parallel\"><div class=\"sk-parallel-item\"><div class=\"sk-item\"><div class=\"sk-label-container\"><div class=\"sk-label sk-toggleable\"><input class=\"sk-toggleable__control sk-hidden--visually\" id=\"sk-estimator-id-2\" type=\"checkbox\" ><label for=\"sk-estimator-id-2\" class=\"sk-toggleable__label sk-toggleable__label-arrow\">base_estimator: RandomForestClassifier</label><div class=\"sk-toggleable__content\"><pre>RandomForestClassifier(class_weight=&#x27;balanced&#x27;, criterion=&#x27;log_loss&#x27;)</pre></div></div></div><div class=\"sk-serial\"><div class=\"sk-item\"><div class=\"sk-estimator sk-toggleable\"><input class=\"sk-toggleable__control sk-hidden--visually\" id=\"sk-estimator-id-3\" type=\"checkbox\" ><label for=\"sk-estimator-id-3\" class=\"sk-toggleable__label sk-toggleable__label-arrow\">RandomForestClassifier</label><div class=\"sk-toggleable__content\"><pre>RandomForestClassifier(class_weight=&#x27;balanced&#x27;, criterion=&#x27;log_loss&#x27;)</pre></div></div></div></div></div></div></div></div></div></div>"
      ],
      "text/plain": [
       "BaggingClassifier(base_estimator=RandomForestClassifier(class_weight='balanced',\n",
       "                                                        criterion='log_loss'))"
      ]
     },
     "execution_count": 79,
     "metadata": {},
     "output_type": "execute_result"
    }
   ],
   "source": [
    "# Train on whole train set \n",
    "bagg_class['RandomForest'].fit(X_train_scaled, np.array(y).ravel())"
   ]
  },
  {
   "cell_type": "code",
   "execution_count": 80,
   "id": "72dff73d",
   "metadata": {},
   "outputs": [],
   "source": [
    "# Prediction on submission test set\n",
    "submission = bagg_class['RandomForest'].predict(X_test_scaled)\n",
    "df_submission = pd.DataFrame({'id': X_test_scaled.index, 'y': submission})"
   ]
  },
  {
   "cell_type": "code",
   "execution_count": 81,
   "id": "129becd0",
   "metadata": {},
   "outputs": [],
   "source": [
    "# Save into csv file\n",
    "df_submission.to_csv('submission.csv',index=False)"
   ]
  },
  {
   "cell_type": "code",
   "execution_count": null,
   "id": "0524c2e0",
   "metadata": {},
   "outputs": [],
   "source": []
  }
 ],
 "metadata": {
  "kernelspec": {
   "display_name": "Python 3 (ipykernel)",
   "language": "python",
   "name": "python3"
  },
  "language_info": {
   "codemirror_mode": {
    "name": "ipython",
    "version": 3
   },
   "file_extension": ".py",
   "mimetype": "text/x-python",
   "name": "python",
   "nbconvert_exporter": "python",
   "pygments_lexer": "ipython3",
   "version": "3.9.13"
  }
 },
 "nbformat": 4,
 "nbformat_minor": 5
}
