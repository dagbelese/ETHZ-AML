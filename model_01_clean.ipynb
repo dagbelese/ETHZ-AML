{
 "cells": [
  {
   "cell_type": "code",
   "execution_count": 1,
   "id": "d05ddc2f",
   "metadata": {},
   "outputs": [],
   "source": [
    "import numpy as np\n",
    "import pandas as pd\n",
    "import matplotlib.pyplot as plt\n",
    "import seaborn as sns\n",
    "from sklearn.experimental import enable_iterative_imputer\n",
    "from sklearn.impute import IterativeImputer\n",
    "from sklearn.model_selection import train_test_split\n",
    "from sklearn import linear_model\n",
    "from sklearn.metrics import r2_score\n",
    "from sklearn import preprocessing\n",
    "from sklearn.gaussian_process.kernels import *\n",
    "from sklearn.gaussian_process import GaussianProcessRegressor\n",
    "from sklearn.feature_selection import SelectKBest\n",
    "from sklearn.feature_selection import f_regression\n",
    "from sklearn.feature_selection import mutual_info_regression"
   ]
  },
  {
   "cell_type": "code",
   "execution_count": 2,
   "id": "6d213b36",
   "metadata": {},
   "outputs": [],
   "source": [
    "dftrain_x = pd.read_csv(r'C:\\Users\\sedri\\Desktop\\ETHZ\\Master\\3_HS22\\Advanced Machine Learning\\Projects\\1_project\\X_train.csv')\n",
    "dftrain_y = pd.read_csv(r'C:\\Users\\sedri\\Desktop\\ETHZ\\Master\\3_HS22\\Advanced Machine Learning\\Projects\\1_project\\y_train.csv')\n",
    "dftest_x = pd.read_csv(r'C:\\Users\\sedri\\Desktop\\ETHZ\\Master\\3_HS22\\Advanced Machine Learning\\Projects\\1_project\\X_test.csv')"
   ]
  },
  {
   "cell_type": "code",
   "execution_count": 3,
   "id": "3966fb99",
   "metadata": {},
   "outputs": [
    {
     "data": {
      "text/plain": [
       "0        0.0\n",
       "1        1.0\n",
       "2        2.0\n",
       "3        3.0\n",
       "4        4.0\n",
       "       ...  \n",
       "771    771.0\n",
       "772    772.0\n",
       "773    773.0\n",
       "774    774.0\n",
       "775    775.0\n",
       "Name: id, Length: 776, dtype: float64"
      ]
     },
     "execution_count": 3,
     "metadata": {},
     "output_type": "execute_result"
    }
   ],
   "source": [
    "#drop id \n",
    "dftrain_x.pop('id')\n",
    "dftrain_y.pop('id')\n",
    "dftest_x.pop('id')"
   ]
  },
  {
   "cell_type": "code",
   "execution_count": 4,
   "id": "0613b97e",
   "metadata": {},
   "outputs": [],
   "source": [
    "#imputation train\n",
    "#model\n",
    "imp = IterativeImputer(max_iter=40, random_state=0, n_nearest_features=100)\n",
    "imp.fit(dftrain_x)\n",
    "A = imp.transform(dftrain_x)\n",
    "column_names = dftrain_x.columns\n",
    "new_datax = pd.DataFrame(A)\n",
    "new_datax.columns = column_names "
   ]
  },
  {
   "cell_type": "code",
   "execution_count": 5,
   "id": "795e76b8",
   "metadata": {},
   "outputs": [],
   "source": [
    "#imputation test\n",
    "#model\n",
    "imp = IterativeImputer(max_iter=40, random_state=0, n_nearest_features=100)\n",
    "imp.fit(dftest_x)\n",
    "A = imp.transform(dftest_x)\n",
    "column_names = dftest_x.columns\n",
    "dftest_x = pd.DataFrame(A)\n",
    "dftest_x.columns = column_names "
   ]
  },
  {
   "cell_type": "code",
   "execution_count": 6,
   "id": "36d808fb",
   "metadata": {
    "scrolled": true
   },
   "outputs": [
    {
     "name": "stderr",
     "output_type": "stream",
     "text": [
      "C:\\Users\\sedri\\anaconda3\\lib\\site-packages\\sklearn\\feature_selection\\_univariate_selection.py:289: RuntimeWarning: invalid value encountered in true_divide\n",
      "  correlation_coefficient /= X_norms\n"
     ]
    }
   ],
   "source": [
    "#feature selection train\n",
    "selector = SelectKBest(f_regression, k=75)\n",
    "new_datax_reduced = selector.fit_transform(new_datax, np.array(dftrain_y).ravel())\n",
    "cols = selector.get_support(indices=True)\n",
    "\n",
    "new_dftest_x = np.array(dftest_x.iloc[:,cols])"
   ]
  },
  {
   "cell_type": "code",
   "execution_count": 7,
   "id": "58789eef",
   "metadata": {},
   "outputs": [],
   "source": [
    "#scale \n",
    "scaler = preprocessing.StandardScaler().fit(new_datax_reduced)\n",
    "X_scaled = scaler.transform(new_datax_reduced)\n",
    "\n",
    "scaler = preprocessing.StandardScaler().fit(new_dftest_x)\n",
    "X_test_scaled = scaler.transform(new_dftest_x)"
   ]
  },
  {
   "cell_type": "code",
   "execution_count": null,
   "id": "22b3d2b5",
   "metadata": {
    "scrolled": true
   },
   "outputs": [],
   "source": [
    "#train model - Gaussian process\n",
    "#split\n",
    "X_train, X_test, y_train, y_test = train_test_split(X_scaled, dftrain_y, test_size=0.2, random_state=42)\n",
    "kernel = RationalQuadratic() #Matern(nu=0.5) + DotProduct() + WhiteKernel()\n",
    "GP_model = GaussianProcessRegressor(kernel=kernel,n_restarts_optimizer=5, normalize_y=True).fit(X_train, y_train)\n",
    "\n",
    "y_pred = []\n",
    "y_std = []\n",
    "\n",
    "for i in range(len(X_test)):\n",
    "    mu, std = GP_model.predict(X_test[i].reshape(1, -1), return_std=True)\n",
    "    y_pred.append(mu)\n",
    "    y_std.append(std)\n",
    "    \n",
    "score = r2_score(y_test, np.array(y_pred).squeeze())\n",
    "print(\"Gaussian Processes results: {}\".format(score))"
   ]
  },
  {
   "cell_type": "code",
   "execution_count": 29,
   "id": "abc92985",
   "metadata": {},
   "outputs": [],
   "source": [
    "#train model - Gaussian process - final\n",
    "#split\n",
    "X_train = X_scaled\n",
    "y_train = dftrain_y\n",
    "kernel = Matern(nu=0.5) + DotProduct() + WhiteKernel()\n",
    "GP_model = GaussianProcessRegressor(kernel=kernel,n_restarts_optimizer=5, normalize_y=True).fit(X_train, y_train)"
   ]
  },
  {
   "cell_type": "code",
   "execution_count": 30,
   "id": "db465cd8",
   "metadata": {},
   "outputs": [],
   "source": [
    "#test - Gaussoian process\n",
    "y_pred_test = []\n",
    "y_std_test = []\n",
    "for i in range(len(new_dftest_x)):\n",
    "    mu, std = GP_model.predict(X_test_scaled[i].reshape(1, -1), return_std=True)\n",
    "    y_pred_test.append(mu)\n",
    "    y_std_test.append(std)"
   ]
  },
  {
   "cell_type": "code",
   "execution_count": 31,
   "id": "40344d74",
   "metadata": {},
   "outputs": [],
   "source": [
    "#save solution\n",
    "solution = []\n",
    "indeces = []\n",
    "u = 0\n",
    "for i in y_pred_test:\n",
    "    solution.append(i[0][0])\n",
    "    indeces.append(float(u))\n",
    "    u+=1\n",
    "    \n",
    "df_solution = pd.DataFrame()\n",
    "df_solution['id'] = indeces\n",
    "df_solution['y'] = solution"
   ]
  },
  {
   "cell_type": "code",
   "execution_count": 11,
   "id": "e6bb5e18",
   "metadata": {},
   "outputs": [
    {
     "data": {
      "text/html": [
       "<div>\n",
       "<style scoped>\n",
       "    .dataframe tbody tr th:only-of-type {\n",
       "        vertical-align: middle;\n",
       "    }\n",
       "\n",
       "    .dataframe tbody tr th {\n",
       "        vertical-align: top;\n",
       "    }\n",
       "\n",
       "    .dataframe thead th {\n",
       "        text-align: right;\n",
       "    }\n",
       "</style>\n",
       "<table border=\"1\" class=\"dataframe\">\n",
       "  <thead>\n",
       "    <tr style=\"text-align: right;\">\n",
       "      <th></th>\n",
       "      <th>id</th>\n",
       "      <th>y</th>\n",
       "    </tr>\n",
       "  </thead>\n",
       "  <tbody>\n",
       "    <tr>\n",
       "      <th>0</th>\n",
       "      <td>0.0</td>\n",
       "      <td>63.736589</td>\n",
       "    </tr>\n",
       "    <tr>\n",
       "      <th>1</th>\n",
       "      <td>1.0</td>\n",
       "      <td>72.571069</td>\n",
       "    </tr>\n",
       "    <tr>\n",
       "      <th>2</th>\n",
       "      <td>2.0</td>\n",
       "      <td>67.315190</td>\n",
       "    </tr>\n",
       "    <tr>\n",
       "      <th>3</th>\n",
       "      <td>3.0</td>\n",
       "      <td>77.010111</td>\n",
       "    </tr>\n",
       "    <tr>\n",
       "      <th>4</th>\n",
       "      <td>4.0</td>\n",
       "      <td>77.339483</td>\n",
       "    </tr>\n",
       "    <tr>\n",
       "      <th>...</th>\n",
       "      <td>...</td>\n",
       "      <td>...</td>\n",
       "    </tr>\n",
       "    <tr>\n",
       "      <th>771</th>\n",
       "      <td>771.0</td>\n",
       "      <td>67.289574</td>\n",
       "    </tr>\n",
       "    <tr>\n",
       "      <th>772</th>\n",
       "      <td>772.0</td>\n",
       "      <td>72.070758</td>\n",
       "    </tr>\n",
       "    <tr>\n",
       "      <th>773</th>\n",
       "      <td>773.0</td>\n",
       "      <td>75.507419</td>\n",
       "    </tr>\n",
       "    <tr>\n",
       "      <th>774</th>\n",
       "      <td>774.0</td>\n",
       "      <td>67.911701</td>\n",
       "    </tr>\n",
       "    <tr>\n",
       "      <th>775</th>\n",
       "      <td>775.0</td>\n",
       "      <td>63.856116</td>\n",
       "    </tr>\n",
       "  </tbody>\n",
       "</table>\n",
       "<p>776 rows × 2 columns</p>\n",
       "</div>"
      ],
      "text/plain": [
       "        id          y\n",
       "0      0.0  63.736589\n",
       "1      1.0  72.571069\n",
       "2      2.0  67.315190\n",
       "3      3.0  77.010111\n",
       "4      4.0  77.339483\n",
       "..     ...        ...\n",
       "771  771.0  67.289574\n",
       "772  772.0  72.070758\n",
       "773  773.0  75.507419\n",
       "774  774.0  67.911701\n",
       "775  775.0  63.856116\n",
       "\n",
       "[776 rows x 2 columns]"
      ]
     },
     "execution_count": 11,
     "metadata": {},
     "output_type": "execute_result"
    }
   ],
   "source": [
    "df_solution"
   ]
  },
  {
   "cell_type": "code",
   "execution_count": 34,
   "id": "1b58ca59",
   "metadata": {},
   "outputs": [],
   "source": [
    "df_solution.to_csv(index=False, path_or_buf=r'C:\\Users\\sedri\\Desktop\\ETHZ\\Master\\3_HS22\\Advanced Machine Learning\\Projects\\1_project\\solution.csv')"
   ]
  },
  {
   "cell_type": "code",
   "execution_count": null,
   "id": "6631fd38",
   "metadata": {},
   "outputs": [],
   "source": []
  }
 ],
 "metadata": {
  "kernelspec": {
   "display_name": "Python 3 (ipykernel)",
   "language": "python",
   "name": "python3"
  },
  "language_info": {
   "codemirror_mode": {
    "name": "ipython",
    "version": 3
   },
   "file_extension": ".py",
   "mimetype": "text/x-python",
   "name": "python",
   "nbconvert_exporter": "python",
   "pygments_lexer": "ipython3",
   "version": "3.8.13"
  }
 },
 "nbformat": 4,
 "nbformat_minor": 5
}
