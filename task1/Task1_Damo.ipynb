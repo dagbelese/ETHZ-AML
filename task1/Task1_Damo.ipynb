{
 "cells": [
  {
   "cell_type": "code",
   "execution_count": 567,
   "id": "8b6f405f-44c8-47e7-8124-481a3fdf43eb",
   "metadata": {},
   "outputs": [],
   "source": [
    "# Import necessary libraries\n",
    "import pandas as pd\n",
    "import numpy as np"
   ]
  },
  {
   "cell_type": "code",
   "execution_count": 568,
   "id": "4208ba25-d24c-496d-bdaa-75f6816db029",
   "metadata": {},
   "outputs": [],
   "source": [
    "# Load dataset\n",
    "X = pd.read_csv('X_train.csv', index_col='id')\n",
    "y = pd.read_csv('y_train.csv', index_col='id')\n",
    "X_test_sub = pd.read_csv('X_test.csv', index_col='id')"
   ]
  },
  {
   "cell_type": "code",
   "execution_count": 569,
   "id": "fbd19fee-98f4-46fa-91f0-6c1c7d7c404f",
   "metadata": {},
   "outputs": [
    {
     "name": "stdout",
     "output_type": "stream",
     "text": [
      "Shape of training set: (1212, 832)\n",
      "Shape of test set: (776, 832)\n"
     ]
    }
   ],
   "source": [
    "print('Shape of training set:', X.shape)\n",
    "print('Shape of test set:', X_test_sub.shape)"
   ]
  },
  {
   "cell_type": "markdown",
   "id": "6d903f80-7856-4fb4-9c79-8c9a8b2c70e6",
   "metadata": {},
   "source": [
    "# Preprocessing"
   ]
  },
  {
   "cell_type": "markdown",
   "id": "bf230864-8b6e-470d-aa9b-8fc3d33cb0c2",
   "metadata": {},
   "source": [
    "### Imputation of missing values"
   ]
  },
  {
   "cell_type": "code",
   "execution_count": 570,
   "id": "e7b3a2ca-b1df-4a0c-91ad-6d4a8f2c1738",
   "metadata": {},
   "outputs": [],
   "source": [
    "# Simple imputer\n",
    "from sklearn.impute import SimpleImputer\n",
    "imputer = SimpleImputer(strategy='median')\n",
    "X_train_imp = imputer.fit_transform(X)\n",
    "X_test_imp = imputer.transform(X_test_sub)\n",
    "\n",
    "# Iterative imputer\n",
    "#from sklearn.experimental import enable_iterative_imputer\n",
    "#from sklearn.impute import IterativeImputer\n",
    "#imputer = IterativeImputer(initial_strategy='median')\n",
    "#X_train_imp = imputer.fit_transform(X_train)\n",
    "#X_test_imp = imputer.transform(X_test)\n",
    "\n",
    "X_train_imp = pd.DataFrame(X_train_imp, columns=X.columns)\n",
    "X_test_imp = pd.DataFrame(X_test_imp, columns=X_test_sub.columns)"
   ]
  },
  {
   "cell_type": "markdown",
   "id": "ef82bb11-ad62-442d-a5c2-165a67bca53b",
   "metadata": {},
   "source": [
    "### Standardization"
   ]
  },
  {
   "cell_type": "code",
   "execution_count": 571,
   "id": "d4ffa651-2399-42c3-8851-dda50bc8fa13",
   "metadata": {},
   "outputs": [],
   "source": [
    "# Standard scaler\n",
    "#from sklearn.preprocessing import StandardScaler\n",
    "#scaler = StandardScaler()\n",
    "#X_train_scaled = scaler.fit_transform(X_train_imp)\n",
    "#X_test_scaled = scaler.transform(X_test_imp)\n",
    "\n",
    "# Scaler robust to outliers\n",
    "from sklearn.preprocessing import RobustScaler\n",
    "scaler = RobustScaler()\n",
    "X_train_scaled = scaler.fit_transform(X_train_imp)\n",
    "X_test_scaled = scaler.transform(X_test_imp)\n",
    "\n",
    "X_train_scaled = pd.DataFrame(X_train_scaled, columns=X.columns)\n",
    "X_test_scaled = pd.DataFrame(X_test_scaled, columns=X_test_sub.columns)"
   ]
  },
  {
   "cell_type": "markdown",
   "id": "eedf5ff0-a891-4266-bf32-10434623bafc",
   "metadata": {},
   "source": [
    "### Feature selection"
   ]
  },
  {
   "cell_type": "code",
   "execution_count": 572,
   "id": "58362a9c-22a3-4682-a249-a4dbdd905d45",
   "metadata": {},
   "outputs": [],
   "source": [
    "# PCA\n",
    "from sklearn.decomposition import PCA\n",
    "pca = PCA(n_components=100)\n",
    "X_train_pca = pca.fit_transform(X_train_scaled)\n",
    "X_test_pca = pca.transform(X_test_scaled)\n",
    "\n",
    "X_train_pca = pd.DataFrame(X_train_pca)\n",
    "X_test_pca = pd.DataFrame(X_test_pca)"
   ]
  },
  {
   "cell_type": "markdown",
   "id": "3d150b98-88bc-40b7-b9fb-4a0950c85d94",
   "metadata": {},
   "source": [
    "# Regression models"
   ]
  },
  {
   "cell_type": "code",
   "execution_count": 573,
   "id": "b4b0af37-e321-4c32-bea1-b3915552df06",
   "metadata": {},
   "outputs": [],
   "source": [
    "# Train-Test-Split\n",
    "from sklearn.model_selection import train_test_split\n",
    "\n",
    "X_train, X_test, y_train, y_test = train_test_split(X_train_pca, y, test_size=0.2) "
   ]
  },
  {
   "cell_type": "code",
   "execution_count": 574,
   "id": "8e9c1da7-92fc-4256-bb1a-a7969191888b",
   "metadata": {},
   "outputs": [
    {
     "name": "stdout",
     "output_type": "stream",
     "text": [
      "Shape of training set: (969, 100)\n",
      "Shape of test set: (243, 100)\n"
     ]
    }
   ],
   "source": [
    "print('Shape of training set:', X_train.shape)\n",
    "print('Shape of test set:', X_test.shape)"
   ]
  },
  {
   "cell_type": "markdown",
   "id": "47949c7d-eba5-4d22-b81c-fd8a847c9bca",
   "metadata": {},
   "source": [
    "### Linear regression"
   ]
  },
  {
   "cell_type": "code",
   "execution_count": 575,
   "id": "7c9d0d59-6f88-4d36-9f4d-7e358c3eec1c",
   "metadata": {},
   "outputs": [],
   "source": [
    "from sklearn.linear_model import LinearRegression\n",
    "lr = LinearRegression().fit(X_train, y_train)\n",
    "y_pred = lr.predict(X_test)"
   ]
  },
  {
   "cell_type": "code",
   "execution_count": 576,
   "id": "0a3eaa74-cf49-496f-b9ec-37709e8d3d97",
   "metadata": {},
   "outputs": [
    {
     "name": "stdout",
     "output_type": "stream",
     "text": [
      "Score Linear Regression: 0.2620866557934147\n"
     ]
    }
   ],
   "source": [
    "# Evaluation of Linear Regression\n",
    "from sklearn.metrics import r2_score\n",
    "score = r2_score(y_test, y_pred)\n",
    "\n",
    "print('Score Linear Regression:', score)"
   ]
  },
  {
   "cell_type": "markdown",
   "id": "cad7cd0c-9639-47b3-b889-26597667148e",
   "metadata": {},
   "source": [
    "### Ridge Regression"
   ]
  },
  {
   "cell_type": "code",
   "execution_count": 577,
   "id": "68947ca4-7fc1-4568-8b57-25fc5b20000d",
   "metadata": {},
   "outputs": [],
   "source": [
    "# Ridge regression\n",
    "from sklearn.linear_model import RidgeCV\n",
    "rr = RidgeCV(cv=10).fit(X_train, y_train)\n",
    "y_pred = rr.predict(X_test)"
   ]
  },
  {
   "cell_type": "code",
   "execution_count": 578,
   "id": "0f55b93a-d502-484c-b15f-3b2d75dd7236",
   "metadata": {},
   "outputs": [
    {
     "name": "stdout",
     "output_type": "stream",
     "text": [
      "Score Ridge Regression: 0.26279574347516144\n"
     ]
    }
   ],
   "source": [
    "# Evaluation of Ridge Regression\n",
    "from sklearn.metrics import r2_score\n",
    "score = r2_score(y_test, y_pred)\n",
    "\n",
    "print('Score Ridge Regression:', score)"
   ]
  },
  {
   "cell_type": "markdown",
   "id": "9cdee215-37e7-4d5a-989d-40ce18679a6d",
   "metadata": {},
   "source": [
    "### Gaussian process"
   ]
  },
  {
   "cell_type": "code",
   "execution_count": 579,
   "id": "b3d54d4f-8222-45ca-8431-85e57a54d819",
   "metadata": {},
   "outputs": [],
   "source": [
    "# Gaussian process\n",
    "from sklearn.gaussian_process import GaussianProcessRegressor\n",
    "\n",
    "gpr = GaussianProcessRegressor()\n",
    "gpr.fit(X_train, y_train)\n",
    "y_pred = gpr.predict(X_test)"
   ]
  },
  {
   "cell_type": "code",
   "execution_count": 580,
   "id": "887dc5ab-e339-4785-b492-c7bf01a08acd",
   "metadata": {},
   "outputs": [
    {
     "name": "stdout",
     "output_type": "stream",
     "text": [
      "Score Gaussian Process: -49.67533264318197\n"
     ]
    }
   ],
   "source": [
    "# Evaluation of Gaussian Process\n",
    "from sklearn.metrics import r2_score\n",
    "score = r2_score(y_test, y_pred)\n",
    "\n",
    "print('Score Gaussian Process:', score)"
   ]
  },
  {
   "cell_type": "markdown",
   "id": "cf5ed83b-d79c-4716-8768-dd1d882ac6e5",
   "metadata": {},
   "source": [
    "# Submission"
   ]
  },
  {
   "cell_type": "code",
   "execution_count": null,
   "id": "40e1af43-020d-4582-9a36-821a9775235e",
   "metadata": {},
   "outputs": [],
   "source": []
  }
 ],
 "metadata": {
  "kernelspec": {
   "display_name": "Python 3 (ipykernel)",
   "language": "python",
   "name": "python3"
  },
  "language_info": {
   "codemirror_mode": {
    "name": "ipython",
    "version": 3
   },
   "file_extension": ".py",
   "mimetype": "text/x-python",
   "name": "python",
   "nbconvert_exporter": "python",
   "pygments_lexer": "ipython3",
   "version": "3.9.13"
  }
 },
 "nbformat": 4,
 "nbformat_minor": 5
}
